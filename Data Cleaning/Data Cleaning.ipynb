{
 "cells": [
  {
   "cell_type": "markdown",
   "id": "02610036",
   "metadata": {},
   "source": [
    "# Data Cleaning\n",
    "* Data cleaning is the process of detecting and correcting errors or inconsistencies in a dataset to improve its quality and reliability for analysis. It involves various steps such as handling missing or incorrect data, removing duplicates, standardizing formats, correcting typos, and dealing with outliers. The goal of data cleaning is to ensure that the dataset is accurate, complete, and consistent so that it can be used effectively for further analysis and modeling. This process is crucial in data preprocessing before any meaningful analysis or machine learning tasks can be performed on the data."
   ]
  },
  {
   "cell_type": "markdown",
   "id": "40c4822d",
   "metadata": {},
   "source": [
    "# Importing Libraries"
   ]
  },
  {
   "cell_type": "code",
   "execution_count": 118,
   "id": "418aa24b",
   "metadata": {},
   "outputs": [],
   "source": [
    "import pandas as pd \n",
    "import numpy as np\n",
    "import matplotlib.pyplot as plt\n",
    "import seaborn as sns\n",
    "import scipy.stats as stats\n",
    "plt.style.use('ggplot')\n",
    "import warnings\n",
    "warnings.filterwarnings(\"ignore\")\n"
   ]
  },
  {
   "cell_type": "markdown",
   "id": "19cac6af",
   "metadata": {},
   "source": [
    "# Loading Dataset"
   ]
  },
  {
   "cell_type": "code",
   "execution_count": 2,
   "id": "f2baa4a3",
   "metadata": {},
   "outputs": [
    {
     "data": {
      "text/html": [
       "<div>\n",
       "<style scoped>\n",
       "    .dataframe tbody tr th:only-of-type {\n",
       "        vertical-align: middle;\n",
       "    }\n",
       "\n",
       "    .dataframe tbody tr th {\n",
       "        vertical-align: top;\n",
       "    }\n",
       "\n",
       "    .dataframe thead th {\n",
       "        text-align: right;\n",
       "    }\n",
       "</style>\n",
       "<table border=\"1\" class=\"dataframe\">\n",
       "  <thead>\n",
       "    <tr style=\"text-align: right;\">\n",
       "      <th></th>\n",
       "      <th>id</th>\n",
       "      <th>name</th>\n",
       "      <th>host_id</th>\n",
       "      <th>host_name</th>\n",
       "      <th>neighbourhood_group</th>\n",
       "      <th>neighbourhood</th>\n",
       "      <th>latitude</th>\n",
       "      <th>longitude</th>\n",
       "      <th>room_type</th>\n",
       "      <th>price</th>\n",
       "      <th>minimum_nights</th>\n",
       "      <th>number_of_reviews</th>\n",
       "      <th>last_review</th>\n",
       "      <th>reviews_per_month</th>\n",
       "      <th>calculated_host_listings_count</th>\n",
       "      <th>availability_365</th>\n",
       "    </tr>\n",
       "  </thead>\n",
       "  <tbody>\n",
       "    <tr>\n",
       "      <th>3506</th>\n",
       "      <td>2095959</td>\n",
       "      <td>Big Sunlit Studio - Nice Bed - 18 min to Manha...</td>\n",
       "      <td>10692401</td>\n",
       "      <td>Jp</td>\n",
       "      <td>Queens</td>\n",
       "      <td>Sunnyside</td>\n",
       "      <td>40.74409</td>\n",
       "      <td>-73.92471</td>\n",
       "      <td>Entire home/apt</td>\n",
       "      <td>94</td>\n",
       "      <td>7</td>\n",
       "      <td>27</td>\n",
       "      <td>2016-08-28</td>\n",
       "      <td>0.40</td>\n",
       "      <td>1</td>\n",
       "      <td>0</td>\n",
       "    </tr>\n",
       "    <tr>\n",
       "      <th>2926</th>\n",
       "      <td>1690764</td>\n",
       "      <td>One very large room two beds</td>\n",
       "      <td>8925493</td>\n",
       "      <td>Yvonne</td>\n",
       "      <td>Brooklyn</td>\n",
       "      <td>Bedford-Stuyvesant</td>\n",
       "      <td>40.68208</td>\n",
       "      <td>-73.91040</td>\n",
       "      <td>Private room</td>\n",
       "      <td>65</td>\n",
       "      <td>3</td>\n",
       "      <td>2</td>\n",
       "      <td>2019-05-07</td>\n",
       "      <td>0.06</td>\n",
       "      <td>2</td>\n",
       "      <td>365</td>\n",
       "    </tr>\n",
       "    <tr>\n",
       "      <th>31281</th>\n",
       "      <td>24287857</td>\n",
       "      <td>Astoria Centeral Location</td>\n",
       "      <td>183211776</td>\n",
       "      <td>Rafael</td>\n",
       "      <td>Queens</td>\n",
       "      <td>Astoria</td>\n",
       "      <td>40.76387</td>\n",
       "      <td>-73.90995</td>\n",
       "      <td>Private room</td>\n",
       "      <td>79</td>\n",
       "      <td>1</td>\n",
       "      <td>73</td>\n",
       "      <td>2019-06-30</td>\n",
       "      <td>5.03</td>\n",
       "      <td>4</td>\n",
       "      <td>171</td>\n",
       "    </tr>\n",
       "    <tr>\n",
       "      <th>5095</th>\n",
       "      <td>3662827</td>\n",
       "      <td>Nolita Duplex w/ private terrace</td>\n",
       "      <td>8200795</td>\n",
       "      <td>Brooke</td>\n",
       "      <td>Manhattan</td>\n",
       "      <td>Nolita</td>\n",
       "      <td>40.72168</td>\n",
       "      <td>-73.99544</td>\n",
       "      <td>Entire home/apt</td>\n",
       "      <td>191</td>\n",
       "      <td>3</td>\n",
       "      <td>51</td>\n",
       "      <td>2019-06-30</td>\n",
       "      <td>0.88</td>\n",
       "      <td>1</td>\n",
       "      <td>55</td>\n",
       "    </tr>\n",
       "    <tr>\n",
       "      <th>20128</th>\n",
       "      <td>16122223</td>\n",
       "      <td>Superb master bedroom on the Upper West Side</td>\n",
       "      <td>3740293</td>\n",
       "      <td>Paolo</td>\n",
       "      <td>Manhattan</td>\n",
       "      <td>Upper West Side</td>\n",
       "      <td>40.78859</td>\n",
       "      <td>-73.97568</td>\n",
       "      <td>Private room</td>\n",
       "      <td>60</td>\n",
       "      <td>14</td>\n",
       "      <td>1</td>\n",
       "      <td>2017-05-23</td>\n",
       "      <td>0.04</td>\n",
       "      <td>1</td>\n",
       "      <td>0</td>\n",
       "    </tr>\n",
       "    <tr>\n",
       "      <th>26346</th>\n",
       "      <td>20991910</td>\n",
       "      <td>Beautifully Designed Green Point in Greenpoint</td>\n",
       "      <td>4774053</td>\n",
       "      <td>Rinat</td>\n",
       "      <td>Brooklyn</td>\n",
       "      <td>Greenpoint</td>\n",
       "      <td>40.72588</td>\n",
       "      <td>-73.94531</td>\n",
       "      <td>Entire home/apt</td>\n",
       "      <td>145</td>\n",
       "      <td>3</td>\n",
       "      <td>23</td>\n",
       "      <td>2019-06-04</td>\n",
       "      <td>1.06</td>\n",
       "      <td>1</td>\n",
       "      <td>13</td>\n",
       "    </tr>\n",
       "    <tr>\n",
       "      <th>21939</th>\n",
       "      <td>17645939</td>\n",
       "      <td>Vintage Rainbow Room</td>\n",
       "      <td>103361884</td>\n",
       "      <td>Ebony</td>\n",
       "      <td>Brooklyn</td>\n",
       "      <td>Flatbush</td>\n",
       "      <td>40.65140</td>\n",
       "      <td>-73.96160</td>\n",
       "      <td>Private room</td>\n",
       "      <td>44</td>\n",
       "      <td>3</td>\n",
       "      <td>25</td>\n",
       "      <td>2019-06-30</td>\n",
       "      <td>1.78</td>\n",
       "      <td>1</td>\n",
       "      <td>3</td>\n",
       "    </tr>\n",
       "    <tr>\n",
       "      <th>27463</th>\n",
       "      <td>21638538</td>\n",
       "      <td>Spacious Private bedroom &amp; private bathroom</td>\n",
       "      <td>130201799</td>\n",
       "      <td>Karma</td>\n",
       "      <td>Manhattan</td>\n",
       "      <td>SoHo</td>\n",
       "      <td>40.72440</td>\n",
       "      <td>-73.99884</td>\n",
       "      <td>Private room</td>\n",
       "      <td>169</td>\n",
       "      <td>3</td>\n",
       "      <td>31</td>\n",
       "      <td>2019-06-30</td>\n",
       "      <td>1.54</td>\n",
       "      <td>1</td>\n",
       "      <td>69</td>\n",
       "    </tr>\n",
       "    <tr>\n",
       "      <th>27337</th>\n",
       "      <td>21577773</td>\n",
       "      <td>Private Room on Ground Floor close to Everything</td>\n",
       "      <td>154965091</td>\n",
       "      <td>Joe</td>\n",
       "      <td>Manhattan</td>\n",
       "      <td>Hell's Kitchen</td>\n",
       "      <td>40.76914</td>\n",
       "      <td>-73.98757</td>\n",
       "      <td>Private room</td>\n",
       "      <td>125</td>\n",
       "      <td>2</td>\n",
       "      <td>61</td>\n",
       "      <td>2019-05-17</td>\n",
       "      <td>3.02</td>\n",
       "      <td>4</td>\n",
       "      <td>95</td>\n",
       "    </tr>\n",
       "    <tr>\n",
       "      <th>18048</th>\n",
       "      <td>14135904</td>\n",
       "      <td>Zen Bed/Bath in Historic Harlem</td>\n",
       "      <td>63361875</td>\n",
       "      <td>Elisa</td>\n",
       "      <td>Manhattan</td>\n",
       "      <td>Harlem</td>\n",
       "      <td>40.81667</td>\n",
       "      <td>-73.94342</td>\n",
       "      <td>Private room</td>\n",
       "      <td>75</td>\n",
       "      <td>3</td>\n",
       "      <td>6</td>\n",
       "      <td>2017-05-21</td>\n",
       "      <td>0.17</td>\n",
       "      <td>1</td>\n",
       "      <td>0</td>\n",
       "    </tr>\n",
       "  </tbody>\n",
       "</table>\n",
       "</div>"
      ],
      "text/plain": [
       "             id                                               name    host_id  \\\n",
       "3506    2095959  Big Sunlit Studio - Nice Bed - 18 min to Manha...   10692401   \n",
       "2926    1690764                       One very large room two beds    8925493   \n",
       "31281  24287857                          Astoria Centeral Location  183211776   \n",
       "5095    3662827                   Nolita Duplex w/ private terrace    8200795   \n",
       "20128  16122223       Superb master bedroom on the Upper West Side    3740293   \n",
       "26346  20991910     Beautifully Designed Green Point in Greenpoint    4774053   \n",
       "21939  17645939                               Vintage Rainbow Room  103361884   \n",
       "27463  21638538        Spacious Private bedroom & private bathroom  130201799   \n",
       "27337  21577773   Private Room on Ground Floor close to Everything  154965091   \n",
       "18048  14135904                    Zen Bed/Bath in Historic Harlem   63361875   \n",
       "\n",
       "      host_name neighbourhood_group       neighbourhood  latitude  longitude  \\\n",
       "3506         Jp              Queens           Sunnyside  40.74409  -73.92471   \n",
       "2926     Yvonne            Brooklyn  Bedford-Stuyvesant  40.68208  -73.91040   \n",
       "31281    Rafael              Queens             Astoria  40.76387  -73.90995   \n",
       "5095     Brooke           Manhattan              Nolita  40.72168  -73.99544   \n",
       "20128     Paolo           Manhattan     Upper West Side  40.78859  -73.97568   \n",
       "26346     Rinat            Brooklyn          Greenpoint  40.72588  -73.94531   \n",
       "21939     Ebony            Brooklyn            Flatbush  40.65140  -73.96160   \n",
       "27463     Karma           Manhattan                SoHo  40.72440  -73.99884   \n",
       "27337       Joe           Manhattan      Hell's Kitchen  40.76914  -73.98757   \n",
       "18048     Elisa           Manhattan              Harlem  40.81667  -73.94342   \n",
       "\n",
       "             room_type  price  minimum_nights  number_of_reviews last_review  \\\n",
       "3506   Entire home/apt     94               7                 27  2016-08-28   \n",
       "2926      Private room     65               3                  2  2019-05-07   \n",
       "31281     Private room     79               1                 73  2019-06-30   \n",
       "5095   Entire home/apt    191               3                 51  2019-06-30   \n",
       "20128     Private room     60              14                  1  2017-05-23   \n",
       "26346  Entire home/apt    145               3                 23  2019-06-04   \n",
       "21939     Private room     44               3                 25  2019-06-30   \n",
       "27463     Private room    169               3                 31  2019-06-30   \n",
       "27337     Private room    125               2                 61  2019-05-17   \n",
       "18048     Private room     75               3                  6  2017-05-21   \n",
       "\n",
       "       reviews_per_month  calculated_host_listings_count  availability_365  \n",
       "3506                0.40                               1                 0  \n",
       "2926                0.06                               2               365  \n",
       "31281               5.03                               4               171  \n",
       "5095                0.88                               1                55  \n",
       "20128               0.04                               1                 0  \n",
       "26346               1.06                               1                13  \n",
       "21939               1.78                               1                 3  \n",
       "27463               1.54                               1                69  \n",
       "27337               3.02                               4                95  \n",
       "18048               0.17                               1                 0  "
      ]
     },
     "execution_count": 2,
     "metadata": {},
     "output_type": "execute_result"
    }
   ],
   "source": [
    "df=pd.read_csv('AB_NYC_2019.csv')\n",
    "df.sample(10)"
   ]
  },
  {
   "cell_type": "markdown",
   "id": "2d2cb65a",
   "metadata": {},
   "source": [
    "# Data Exploration and cleaning"
   ]
  },
  {
   "cell_type": "code",
   "execution_count": 3,
   "id": "1e7ee489",
   "metadata": {
    "scrolled": true
   },
   "outputs": [
    {
     "data": {
      "text/plain": [
       "(48895, 16)"
      ]
     },
     "execution_count": 3,
     "metadata": {},
     "output_type": "execute_result"
    }
   ],
   "source": [
    "df.shape   #This dataset contain 48895 rows and 16 columns"
   ]
  },
  {
   "cell_type": "code",
   "execution_count": 4,
   "id": "af1b87c2",
   "metadata": {},
   "outputs": [
    {
     "data": {
      "text/plain": [
       "Index(['id', 'name', 'host_id', 'host_name', 'neighbourhood_group',\n",
       "       'neighbourhood', 'latitude', 'longitude', 'room_type', 'price',\n",
       "       'minimum_nights', 'number_of_reviews', 'last_review',\n",
       "       'reviews_per_month', 'calculated_host_listings_count',\n",
       "       'availability_365'],\n",
       "      dtype='object')"
      ]
     },
     "execution_count": 4,
     "metadata": {},
     "output_type": "execute_result"
    }
   ],
   "source": [
    "df.columns"
   ]
  },
  {
   "cell_type": "code",
   "execution_count": 5,
   "id": "7e4cefb2",
   "metadata": {},
   "outputs": [
    {
     "data": {
      "text/plain": [
       "0"
      ]
     },
     "execution_count": 5,
     "metadata": {},
     "output_type": "execute_result"
    }
   ],
   "source": [
    "df.duplicated().sum() # There are no duplicates"
   ]
  },
  {
   "cell_type": "code",
   "execution_count": 6,
   "id": "c289d5a6",
   "metadata": {},
   "outputs": [
    {
     "name": "stdout",
     "output_type": "stream",
     "text": [
      "<class 'pandas.core.frame.DataFrame'>\n",
      "RangeIndex: 48895 entries, 0 to 48894\n",
      "Data columns (total 16 columns):\n",
      " #   Column                          Non-Null Count  Dtype  \n",
      "---  ------                          --------------  -----  \n",
      " 0   id                              48895 non-null  int64  \n",
      " 1   name                            48879 non-null  object \n",
      " 2   host_id                         48895 non-null  int64  \n",
      " 3   host_name                       48874 non-null  object \n",
      " 4   neighbourhood_group             48895 non-null  object \n",
      " 5   neighbourhood                   48895 non-null  object \n",
      " 6   latitude                        48895 non-null  float64\n",
      " 7   longitude                       48895 non-null  float64\n",
      " 8   room_type                       48895 non-null  object \n",
      " 9   price                           48895 non-null  int64  \n",
      " 10  minimum_nights                  48895 non-null  int64  \n",
      " 11  number_of_reviews               48895 non-null  int64  \n",
      " 12  last_review                     38843 non-null  object \n",
      " 13  reviews_per_month               38843 non-null  float64\n",
      " 14  calculated_host_listings_count  48895 non-null  int64  \n",
      " 15  availability_365                48895 non-null  int64  \n",
      "dtypes: float64(3), int64(7), object(6)\n",
      "memory usage: 6.0+ MB\n"
     ]
    }
   ],
   "source": [
    "df.info() # as we can see apart of last_review all the columns are in correct format"
   ]
  },
  {
   "cell_type": "code",
   "execution_count": 7,
   "id": "0ba3a637",
   "metadata": {},
   "outputs": [],
   "source": [
    "# changing last_review to datetime format\n",
    "df['last_review'] = pd.to_datetime(df['last_review'], format=\"%Y-%m-%d\", errors='coerce')"
   ]
  },
  {
   "cell_type": "code",
   "execution_count": 8,
   "id": "d0e7a102",
   "metadata": {},
   "outputs": [
    {
     "name": "stdout",
     "output_type": "stream",
     "text": [
      "<class 'pandas.core.frame.DataFrame'>\n",
      "RangeIndex: 48895 entries, 0 to 48894\n",
      "Data columns (total 16 columns):\n",
      " #   Column                          Non-Null Count  Dtype         \n",
      "---  ------                          --------------  -----         \n",
      " 0   id                              48895 non-null  int64         \n",
      " 1   name                            48879 non-null  object        \n",
      " 2   host_id                         48895 non-null  int64         \n",
      " 3   host_name                       48874 non-null  object        \n",
      " 4   neighbourhood_group             48895 non-null  object        \n",
      " 5   neighbourhood                   48895 non-null  object        \n",
      " 6   latitude                        48895 non-null  float64       \n",
      " 7   longitude                       48895 non-null  float64       \n",
      " 8   room_type                       48895 non-null  object        \n",
      " 9   price                           48895 non-null  int64         \n",
      " 10  minimum_nights                  48895 non-null  int64         \n",
      " 11  number_of_reviews               48895 non-null  int64         \n",
      " 12  last_review                     38843 non-null  datetime64[ns]\n",
      " 13  reviews_per_month               38843 non-null  float64       \n",
      " 14  calculated_host_listings_count  48895 non-null  int64         \n",
      " 15  availability_365                48895 non-null  int64         \n",
      "dtypes: datetime64[ns](1), float64(3), int64(7), object(5)\n",
      "memory usage: 6.0+ MB\n"
     ]
    }
   ],
   "source": [
    "df.info()"
   ]
  },
  {
   "cell_type": "code",
   "execution_count": 9,
   "id": "a6ea23b1",
   "metadata": {},
   "outputs": [
    {
     "data": {
      "text/plain": [
       "id                                    0\n",
       "name                                 16\n",
       "host_id                               0\n",
       "host_name                            21\n",
       "neighbourhood_group                   0\n",
       "neighbourhood                         0\n",
       "latitude                              0\n",
       "longitude                             0\n",
       "room_type                             0\n",
       "price                                 0\n",
       "minimum_nights                        0\n",
       "number_of_reviews                     0\n",
       "last_review                       10052\n",
       "reviews_per_month                 10052\n",
       "calculated_host_listings_count        0\n",
       "availability_365                      0\n",
       "dtype: int64"
      ]
     },
     "execution_count": 9,
     "metadata": {},
     "output_type": "execute_result"
    }
   ],
   "source": [
    "df.isnull().sum()"
   ]
  },
  {
   "cell_type": "code",
   "execution_count": 10,
   "id": "46b9e402",
   "metadata": {},
   "outputs": [
    {
     "data": {
      "text/html": [
       "<div>\n",
       "<style scoped>\n",
       "    .dataframe tbody tr th:only-of-type {\n",
       "        vertical-align: middle;\n",
       "    }\n",
       "\n",
       "    .dataframe tbody tr th {\n",
       "        vertical-align: top;\n",
       "    }\n",
       "\n",
       "    .dataframe thead th {\n",
       "        text-align: right;\n",
       "    }\n",
       "</style>\n",
       "<table border=\"1\" class=\"dataframe\">\n",
       "  <thead>\n",
       "    <tr style=\"text-align: right;\">\n",
       "      <th></th>\n",
       "      <th>id</th>\n",
       "      <th>name</th>\n",
       "      <th>host_id</th>\n",
       "      <th>host_name</th>\n",
       "      <th>neighbourhood_group</th>\n",
       "      <th>neighbourhood</th>\n",
       "      <th>latitude</th>\n",
       "      <th>longitude</th>\n",
       "      <th>room_type</th>\n",
       "      <th>price</th>\n",
       "      <th>minimum_nights</th>\n",
       "      <th>number_of_reviews</th>\n",
       "      <th>last_review</th>\n",
       "      <th>reviews_per_month</th>\n",
       "      <th>calculated_host_listings_count</th>\n",
       "      <th>availability_365</th>\n",
       "    </tr>\n",
       "  </thead>\n",
       "  <tbody>\n",
       "    <tr>\n",
       "      <th>2854</th>\n",
       "      <td>1615764</td>\n",
       "      <td>NaN</td>\n",
       "      <td>6676776</td>\n",
       "      <td>Peter</td>\n",
       "      <td>Manhattan</td>\n",
       "      <td>Battery Park City</td>\n",
       "      <td>40.71239</td>\n",
       "      <td>-74.01620</td>\n",
       "      <td>Entire home/apt</td>\n",
       "      <td>400</td>\n",
       "      <td>1000</td>\n",
       "      <td>0</td>\n",
       "      <td>NaT</td>\n",
       "      <td>NaN</td>\n",
       "      <td>1</td>\n",
       "      <td>362</td>\n",
       "    </tr>\n",
       "    <tr>\n",
       "      <th>3703</th>\n",
       "      <td>2232600</td>\n",
       "      <td>NaN</td>\n",
       "      <td>11395220</td>\n",
       "      <td>Anna</td>\n",
       "      <td>Manhattan</td>\n",
       "      <td>East Village</td>\n",
       "      <td>40.73215</td>\n",
       "      <td>-73.98821</td>\n",
       "      <td>Entire home/apt</td>\n",
       "      <td>200</td>\n",
       "      <td>1</td>\n",
       "      <td>28</td>\n",
       "      <td>2015-06-08</td>\n",
       "      <td>0.45</td>\n",
       "      <td>1</td>\n",
       "      <td>341</td>\n",
       "    </tr>\n",
       "    <tr>\n",
       "      <th>5775</th>\n",
       "      <td>4209595</td>\n",
       "      <td>NaN</td>\n",
       "      <td>20700823</td>\n",
       "      <td>Jesse</td>\n",
       "      <td>Manhattan</td>\n",
       "      <td>Greenwich Village</td>\n",
       "      <td>40.73473</td>\n",
       "      <td>-73.99244</td>\n",
       "      <td>Entire home/apt</td>\n",
       "      <td>225</td>\n",
       "      <td>1</td>\n",
       "      <td>1</td>\n",
       "      <td>2015-01-01</td>\n",
       "      <td>0.02</td>\n",
       "      <td>1</td>\n",
       "      <td>0</td>\n",
       "    </tr>\n",
       "    <tr>\n",
       "      <th>5975</th>\n",
       "      <td>4370230</td>\n",
       "      <td>NaN</td>\n",
       "      <td>22686810</td>\n",
       "      <td>Michaël</td>\n",
       "      <td>Manhattan</td>\n",
       "      <td>Nolita</td>\n",
       "      <td>40.72046</td>\n",
       "      <td>-73.99550</td>\n",
       "      <td>Entire home/apt</td>\n",
       "      <td>215</td>\n",
       "      <td>7</td>\n",
       "      <td>5</td>\n",
       "      <td>2016-01-02</td>\n",
       "      <td>0.09</td>\n",
       "      <td>1</td>\n",
       "      <td>0</td>\n",
       "    </tr>\n",
       "    <tr>\n",
       "      <th>6269</th>\n",
       "      <td>4581788</td>\n",
       "      <td>NaN</td>\n",
       "      <td>21600904</td>\n",
       "      <td>Lucie</td>\n",
       "      <td>Brooklyn</td>\n",
       "      <td>Williamsburg</td>\n",
       "      <td>40.71370</td>\n",
       "      <td>-73.94378</td>\n",
       "      <td>Private room</td>\n",
       "      <td>150</td>\n",
       "      <td>1</td>\n",
       "      <td>0</td>\n",
       "      <td>NaT</td>\n",
       "      <td>NaN</td>\n",
       "      <td>1</td>\n",
       "      <td>0</td>\n",
       "    </tr>\n",
       "    <tr>\n",
       "      <th>6567</th>\n",
       "      <td>4756856</td>\n",
       "      <td>NaN</td>\n",
       "      <td>1832442</td>\n",
       "      <td>Carolina</td>\n",
       "      <td>Brooklyn</td>\n",
       "      <td>Bushwick</td>\n",
       "      <td>40.70046</td>\n",
       "      <td>-73.92825</td>\n",
       "      <td>Private room</td>\n",
       "      <td>70</td>\n",
       "      <td>1</td>\n",
       "      <td>0</td>\n",
       "      <td>NaT</td>\n",
       "      <td>NaN</td>\n",
       "      <td>1</td>\n",
       "      <td>0</td>\n",
       "    </tr>\n",
       "    <tr>\n",
       "      <th>6605</th>\n",
       "      <td>4774658</td>\n",
       "      <td>NaN</td>\n",
       "      <td>24625694</td>\n",
       "      <td>Josh</td>\n",
       "      <td>Manhattan</td>\n",
       "      <td>Washington Heights</td>\n",
       "      <td>40.85198</td>\n",
       "      <td>-73.93108</td>\n",
       "      <td>Private room</td>\n",
       "      <td>40</td>\n",
       "      <td>1</td>\n",
       "      <td>0</td>\n",
       "      <td>NaT</td>\n",
       "      <td>NaN</td>\n",
       "      <td>1</td>\n",
       "      <td>0</td>\n",
       "    </tr>\n",
       "    <tr>\n",
       "      <th>8841</th>\n",
       "      <td>6782407</td>\n",
       "      <td>NaN</td>\n",
       "      <td>31147528</td>\n",
       "      <td>Huei-Yin</td>\n",
       "      <td>Brooklyn</td>\n",
       "      <td>Williamsburg</td>\n",
       "      <td>40.71354</td>\n",
       "      <td>-73.93882</td>\n",
       "      <td>Private room</td>\n",
       "      <td>45</td>\n",
       "      <td>1</td>\n",
       "      <td>0</td>\n",
       "      <td>NaT</td>\n",
       "      <td>NaN</td>\n",
       "      <td>1</td>\n",
       "      <td>0</td>\n",
       "    </tr>\n",
       "    <tr>\n",
       "      <th>11963</th>\n",
       "      <td>9325951</td>\n",
       "      <td>NaN</td>\n",
       "      <td>33377685</td>\n",
       "      <td>Jonathan</td>\n",
       "      <td>Manhattan</td>\n",
       "      <td>Hell's Kitchen</td>\n",
       "      <td>40.76436</td>\n",
       "      <td>-73.98573</td>\n",
       "      <td>Entire home/apt</td>\n",
       "      <td>190</td>\n",
       "      <td>4</td>\n",
       "      <td>1</td>\n",
       "      <td>2016-01-05</td>\n",
       "      <td>0.02</td>\n",
       "      <td>1</td>\n",
       "      <td>0</td>\n",
       "    </tr>\n",
       "    <tr>\n",
       "      <th>12824</th>\n",
       "      <td>9787590</td>\n",
       "      <td>NaN</td>\n",
       "      <td>50448556</td>\n",
       "      <td>Miguel</td>\n",
       "      <td>Manhattan</td>\n",
       "      <td>Harlem</td>\n",
       "      <td>40.80316</td>\n",
       "      <td>-73.95189</td>\n",
       "      <td>Entire home/apt</td>\n",
       "      <td>300</td>\n",
       "      <td>5</td>\n",
       "      <td>0</td>\n",
       "      <td>NaT</td>\n",
       "      <td>NaN</td>\n",
       "      <td>5</td>\n",
       "      <td>0</td>\n",
       "    </tr>\n",
       "    <tr>\n",
       "      <th>13059</th>\n",
       "      <td>9885866</td>\n",
       "      <td>NaN</td>\n",
       "      <td>37306329</td>\n",
       "      <td>Juliette</td>\n",
       "      <td>Manhattan</td>\n",
       "      <td>Chinatown</td>\n",
       "      <td>40.71632</td>\n",
       "      <td>-73.99328</td>\n",
       "      <td>Private room</td>\n",
       "      <td>67</td>\n",
       "      <td>4</td>\n",
       "      <td>0</td>\n",
       "      <td>NaT</td>\n",
       "      <td>NaN</td>\n",
       "      <td>1</td>\n",
       "      <td>0</td>\n",
       "    </tr>\n",
       "    <tr>\n",
       "      <th>13401</th>\n",
       "      <td>10052289</td>\n",
       "      <td>NaN</td>\n",
       "      <td>49522403</td>\n",
       "      <td>Vanessa</td>\n",
       "      <td>Brooklyn</td>\n",
       "      <td>Brownsville</td>\n",
       "      <td>40.66409</td>\n",
       "      <td>-73.92314</td>\n",
       "      <td>Private room</td>\n",
       "      <td>50</td>\n",
       "      <td>3</td>\n",
       "      <td>3</td>\n",
       "      <td>2016-08-18</td>\n",
       "      <td>0.07</td>\n",
       "      <td>1</td>\n",
       "      <td>362</td>\n",
       "    </tr>\n",
       "    <tr>\n",
       "      <th>15819</th>\n",
       "      <td>12797684</td>\n",
       "      <td>NaN</td>\n",
       "      <td>69715276</td>\n",
       "      <td>Yan</td>\n",
       "      <td>Manhattan</td>\n",
       "      <td>Upper West Side</td>\n",
       "      <td>40.79843</td>\n",
       "      <td>-73.96404</td>\n",
       "      <td>Private room</td>\n",
       "      <td>100</td>\n",
       "      <td>1</td>\n",
       "      <td>0</td>\n",
       "      <td>NaT</td>\n",
       "      <td>NaN</td>\n",
       "      <td>2</td>\n",
       "      <td>0</td>\n",
       "    </tr>\n",
       "    <tr>\n",
       "      <th>16071</th>\n",
       "      <td>12988898</td>\n",
       "      <td>NaN</td>\n",
       "      <td>71552588</td>\n",
       "      <td>Andrea</td>\n",
       "      <td>Bronx</td>\n",
       "      <td>Fordham</td>\n",
       "      <td>40.86032</td>\n",
       "      <td>-73.88493</td>\n",
       "      <td>Shared room</td>\n",
       "      <td>130</td>\n",
       "      <td>1</td>\n",
       "      <td>0</td>\n",
       "      <td>NaT</td>\n",
       "      <td>NaN</td>\n",
       "      <td>1</td>\n",
       "      <td>365</td>\n",
       "    </tr>\n",
       "    <tr>\n",
       "      <th>18047</th>\n",
       "      <td>14135050</td>\n",
       "      <td>NaN</td>\n",
       "      <td>85288337</td>\n",
       "      <td>Jeff</td>\n",
       "      <td>Brooklyn</td>\n",
       "      <td>Bedford-Stuyvesant</td>\n",
       "      <td>40.69421</td>\n",
       "      <td>-73.93234</td>\n",
       "      <td>Private room</td>\n",
       "      <td>70</td>\n",
       "      <td>3</td>\n",
       "      <td>0</td>\n",
       "      <td>NaT</td>\n",
       "      <td>NaN</td>\n",
       "      <td>1</td>\n",
       "      <td>0</td>\n",
       "    </tr>\n",
       "    <tr>\n",
       "      <th>28889</th>\n",
       "      <td>22275821</td>\n",
       "      <td>NaN</td>\n",
       "      <td>49662398</td>\n",
       "      <td>Kathleen</td>\n",
       "      <td>Brooklyn</td>\n",
       "      <td>Bushwick</td>\n",
       "      <td>40.69546</td>\n",
       "      <td>-73.92741</td>\n",
       "      <td>Entire home/apt</td>\n",
       "      <td>110</td>\n",
       "      <td>4</td>\n",
       "      <td>5</td>\n",
       "      <td>2018-08-13</td>\n",
       "      <td>0.27</td>\n",
       "      <td>1</td>\n",
       "      <td>0</td>\n",
       "    </tr>\n",
       "  </tbody>\n",
       "</table>\n",
       "</div>"
      ],
      "text/plain": [
       "             id name   host_id host_name neighbourhood_group  \\\n",
       "2854    1615764  NaN   6676776     Peter           Manhattan   \n",
       "3703    2232600  NaN  11395220      Anna           Manhattan   \n",
       "5775    4209595  NaN  20700823     Jesse           Manhattan   \n",
       "5975    4370230  NaN  22686810   Michaël           Manhattan   \n",
       "6269    4581788  NaN  21600904     Lucie            Brooklyn   \n",
       "6567    4756856  NaN   1832442  Carolina            Brooklyn   \n",
       "6605    4774658  NaN  24625694      Josh           Manhattan   \n",
       "8841    6782407  NaN  31147528  Huei-Yin            Brooklyn   \n",
       "11963   9325951  NaN  33377685  Jonathan           Manhattan   \n",
       "12824   9787590  NaN  50448556    Miguel           Manhattan   \n",
       "13059   9885866  NaN  37306329  Juliette           Manhattan   \n",
       "13401  10052289  NaN  49522403   Vanessa            Brooklyn   \n",
       "15819  12797684  NaN  69715276       Yan           Manhattan   \n",
       "16071  12988898  NaN  71552588    Andrea               Bronx   \n",
       "18047  14135050  NaN  85288337      Jeff            Brooklyn   \n",
       "28889  22275821  NaN  49662398  Kathleen            Brooklyn   \n",
       "\n",
       "            neighbourhood  latitude  longitude        room_type  price  \\\n",
       "2854    Battery Park City  40.71239  -74.01620  Entire home/apt    400   \n",
       "3703         East Village  40.73215  -73.98821  Entire home/apt    200   \n",
       "5775    Greenwich Village  40.73473  -73.99244  Entire home/apt    225   \n",
       "5975               Nolita  40.72046  -73.99550  Entire home/apt    215   \n",
       "6269         Williamsburg  40.71370  -73.94378     Private room    150   \n",
       "6567             Bushwick  40.70046  -73.92825     Private room     70   \n",
       "6605   Washington Heights  40.85198  -73.93108     Private room     40   \n",
       "8841         Williamsburg  40.71354  -73.93882     Private room     45   \n",
       "11963      Hell's Kitchen  40.76436  -73.98573  Entire home/apt    190   \n",
       "12824              Harlem  40.80316  -73.95189  Entire home/apt    300   \n",
       "13059           Chinatown  40.71632  -73.99328     Private room     67   \n",
       "13401         Brownsville  40.66409  -73.92314     Private room     50   \n",
       "15819     Upper West Side  40.79843  -73.96404     Private room    100   \n",
       "16071             Fordham  40.86032  -73.88493      Shared room    130   \n",
       "18047  Bedford-Stuyvesant  40.69421  -73.93234     Private room     70   \n",
       "28889            Bushwick  40.69546  -73.92741  Entire home/apt    110   \n",
       "\n",
       "       minimum_nights  number_of_reviews last_review  reviews_per_month  \\\n",
       "2854             1000                  0         NaT                NaN   \n",
       "3703                1                 28  2015-06-08               0.45   \n",
       "5775                1                  1  2015-01-01               0.02   \n",
       "5975                7                  5  2016-01-02               0.09   \n",
       "6269                1                  0         NaT                NaN   \n",
       "6567                1                  0         NaT                NaN   \n",
       "6605                1                  0         NaT                NaN   \n",
       "8841                1                  0         NaT                NaN   \n",
       "11963               4                  1  2016-01-05               0.02   \n",
       "12824               5                  0         NaT                NaN   \n",
       "13059               4                  0         NaT                NaN   \n",
       "13401               3                  3  2016-08-18               0.07   \n",
       "15819               1                  0         NaT                NaN   \n",
       "16071               1                  0         NaT                NaN   \n",
       "18047               3                  0         NaT                NaN   \n",
       "28889               4                  5  2018-08-13               0.27   \n",
       "\n",
       "       calculated_host_listings_count  availability_365  \n",
       "2854                                1               362  \n",
       "3703                                1               341  \n",
       "5775                                1                 0  \n",
       "5975                                1                 0  \n",
       "6269                                1                 0  \n",
       "6567                                1                 0  \n",
       "6605                                1                 0  \n",
       "8841                                1                 0  \n",
       "11963                               1                 0  \n",
       "12824                               5                 0  \n",
       "13059                               1                 0  \n",
       "13401                               1               362  \n",
       "15819                               2                 0  \n",
       "16071                               1               365  \n",
       "18047                               1                 0  \n",
       "28889                               1                 0  "
      ]
     },
     "execution_count": 10,
     "metadata": {},
     "output_type": "execute_result"
    }
   ],
   "source": [
    "df[df['name'].isnull()]"
   ]
  },
  {
   "cell_type": "markdown",
   "id": "9b90482a",
   "metadata": {},
   "source": [
    "# Finding and replacing Replacing name"
   ]
  },
  {
   "cell_type": "code",
   "execution_count": 11,
   "id": "41722304",
   "metadata": {},
   "outputs": [
    {
     "data": {
      "text/plain": [
       "'***Lux Doorman/Furnished,Battery Park ***'"
      ]
     },
     "execution_count": 11,
     "metadata": {},
     "output_type": "execute_result"
    }
   ],
   "source": [
    " df[(df['neighbourhood_group']=='Manhattan')& (df['neighbourhood']=='Battery Park City')]['name'].mode()[0]"
   ]
  },
  {
   "cell_type": "code",
   "execution_count": 12,
   "id": "5c42adbe",
   "metadata": {},
   "outputs": [
    {
     "data": {
      "text/plain": [
       "'Cozy East Village Apartment'"
      ]
     },
     "execution_count": 12,
     "metadata": {},
     "output_type": "execute_result"
    }
   ],
   "source": [
    " df[(df['neighbourhood_group']=='Manhattan')& (df['neighbourhood']=='East Village')]['name'].mode()[0]"
   ]
  },
  {
   "cell_type": "code",
   "execution_count": 13,
   "id": "1285f537",
   "metadata": {},
   "outputs": [
    {
     "data": {
      "text/plain": [
       "'Art Deco Charm in the heart of The Village!'"
      ]
     },
     "execution_count": 13,
     "metadata": {},
     "output_type": "execute_result"
    }
   ],
   "source": [
    " df[(df['neighbourhood_group']=='Manhattan')& (df['neighbourhood']=='Greenwich Village')]['name'].mode()[0]"
   ]
  },
  {
   "cell_type": "code",
   "execution_count": 14,
   "id": "78bea117",
   "metadata": {},
   "outputs": [
    {
     "data": {
      "text/plain": [
       "'Private room in Prime Soho/Nolita location'"
      ]
     },
     "execution_count": 14,
     "metadata": {},
     "output_type": "execute_result"
    }
   ],
   "source": [
    " df[(df['neighbourhood_group']=='Manhattan')& (df['neighbourhood']=='Nolita')]['name'].mode()[0]"
   ]
  },
  {
   "cell_type": "code",
   "execution_count": 15,
   "id": "256ce712",
   "metadata": {},
   "outputs": [
    {
     "data": {
      "text/plain": [
       "'Private room in Williamsburg'"
      ]
     },
     "execution_count": 15,
     "metadata": {},
     "output_type": "execute_result"
    }
   ],
   "source": [
    " df[(df['neighbourhood_group']=='Brooklyn')& (df['neighbourhood']=='Williamsburg')]['name'].mode()[0]"
   ]
  },
  {
   "cell_type": "code",
   "execution_count": 16,
   "id": "e65a3dd0",
   "metadata": {},
   "outputs": [
    {
     "data": {
      "text/plain": [
       "'Bushwick Oasis'"
      ]
     },
     "execution_count": 16,
     "metadata": {},
     "output_type": "execute_result"
    }
   ],
   "source": [
    " df[(df['neighbourhood_group']=='Brooklyn')& (df['neighbourhood']=='Bushwick')]['name'].mode()[0]"
   ]
  },
  {
   "cell_type": "code",
   "execution_count": 17,
   "id": "70a08b7c",
   "metadata": {},
   "outputs": [
    {
     "data": {
      "text/plain": [
       "'HARLEM, NEW YORK WELCOMES YOU!!'"
      ]
     },
     "execution_count": 17,
     "metadata": {},
     "output_type": "execute_result"
    }
   ],
   "source": [
    " df[(df['neighbourhood_group']=='Manhattan')& (df['neighbourhood']=='Washington Heights')]['name'].mode()[0]"
   ]
  },
  {
   "cell_type": "code",
   "execution_count": 18,
   "id": "2e080f98",
   "metadata": {},
   "outputs": [
    {
     "data": {
      "text/plain": [
       "'Cozy apartment by Central Park'"
      ]
     },
     "execution_count": 18,
     "metadata": {},
     "output_type": "execute_result"
    }
   ],
   "source": [
    " df[(df['neighbourhood_group']=='Manhattan')& (df['neighbourhood']==\"Hell's Kitchen\")]['name'].mode()[0]"
   ]
  },
  {
   "cell_type": "code",
   "execution_count": 19,
   "id": "927d5c8e",
   "metadata": {},
   "outputs": [
    {
     "data": {
      "text/plain": [
       "'Harlem Gem'"
      ]
     },
     "execution_count": 19,
     "metadata": {},
     "output_type": "execute_result"
    }
   ],
   "source": [
    " df[(df['neighbourhood_group']=='Manhattan')& (df['neighbourhood']=='Harlem')]['name'].mode()[0]"
   ]
  },
  {
   "cell_type": "code",
   "execution_count": 20,
   "id": "cad0c5b5",
   "metadata": {},
   "outputs": [
    {
     "data": {
      "text/plain": [
       "'(= RENT ME RENT ME =)'"
      ]
     },
     "execution_count": 20,
     "metadata": {},
     "output_type": "execute_result"
    }
   ],
   "source": [
    " df[(df['neighbourhood_group']=='Manhattan')& (df['neighbourhood']=='Chinatown')]['name'].mode()[0]"
   ]
  },
  {
   "cell_type": "code",
   "execution_count": 21,
   "id": "7b7aa1af",
   "metadata": {},
   "outputs": [
    {
     "data": {
      "text/plain": [
       "'Quarto Bronx (NY)'"
      ]
     },
     "execution_count": 21,
     "metadata": {},
     "output_type": "execute_result"
    }
   ],
   "source": [
    " df[(df['neighbourhood_group']=='Bronx')& (df['neighbourhood']=='Fordham')]['name'].mode()[0]"
   ]
  },
  {
   "cell_type": "code",
   "execution_count": 22,
   "id": "6e15a937",
   "metadata": {},
   "outputs": [
    {
     "data": {
      "text/plain": [
       "'686 A home away from home'"
      ]
     },
     "execution_count": 22,
     "metadata": {},
     "output_type": "execute_result"
    }
   ],
   "source": [
    " df[(df['neighbourhood_group']=='Brooklyn')& (df['neighbourhood']=='Brownsville')]['name'].mode()[0]"
   ]
  },
  {
   "cell_type": "code",
   "execution_count": 23,
   "id": "027aa372",
   "metadata": {},
   "outputs": [
    {
     "data": {
      "text/plain": [
       "'Upper West Side Studio'"
      ]
     },
     "execution_count": 23,
     "metadata": {},
     "output_type": "execute_result"
    }
   ],
   "source": [
    " df[(df['neighbourhood_group']=='Manhattan')& (df['neighbourhood']=='Upper West Side')]['name'].mode()[0]"
   ]
  },
  {
   "cell_type": "code",
   "execution_count": 24,
   "id": "8d5ea7e2",
   "metadata": {},
   "outputs": [
    {
     "data": {
      "text/plain": [
       "'20-25 minutes to downtown NYC/30-40 to midtown'"
      ]
     },
     "execution_count": 24,
     "metadata": {},
     "output_type": "execute_result"
    }
   ],
   "source": [
    " df[(df['neighbourhood_group']=='Brooklyn')& (df['neighbourhood']=='Bedford-Stuyvesant')]['name'].mode()[0]"
   ]
  },
  {
   "cell_type": "markdown",
   "id": "6b6202f6",
   "metadata": {},
   "source": [
    "# Replacing"
   ]
  },
  {
   "cell_type": "code",
   "execution_count": 25,
   "id": "a9aebe81",
   "metadata": {},
   "outputs": [],
   "source": [
    "df.loc[2854,'name']='***Lux Doorman/Furnished,Battery Park ***'"
   ]
  },
  {
   "cell_type": "code",
   "execution_count": 26,
   "id": "d48c2eb0",
   "metadata": {},
   "outputs": [],
   "source": [
    "df.loc[3703,'name']='Cozy East Village Apartment'"
   ]
  },
  {
   "cell_type": "code",
   "execution_count": 27,
   "id": "c63bb354",
   "metadata": {},
   "outputs": [],
   "source": [
    "df.loc[5775,'name']='Art Deco Charm in the heart of The Village!'"
   ]
  },
  {
   "cell_type": "code",
   "execution_count": 28,
   "id": "1b2c0031",
   "metadata": {},
   "outputs": [],
   "source": [
    "df.loc[5975,'name']='Private room in Prime Soho/Nolita location'"
   ]
  },
  {
   "cell_type": "code",
   "execution_count": 29,
   "id": "9351df77",
   "metadata": {},
   "outputs": [],
   "source": [
    "df.loc[5975,'name']='Private room in Prime Soho/Nolita location'"
   ]
  },
  {
   "cell_type": "code",
   "execution_count": 30,
   "id": "1aa2f6c7",
   "metadata": {},
   "outputs": [],
   "source": [
    "df.loc[6269,'name']='Private room in Williamsburg'"
   ]
  },
  {
   "cell_type": "code",
   "execution_count": 31,
   "id": "2ea2dee4",
   "metadata": {},
   "outputs": [],
   "source": [
    "df.loc[6567,'name']='Bushwick Oasis'"
   ]
  },
  {
   "cell_type": "code",
   "execution_count": 32,
   "id": "5d3cbac7",
   "metadata": {},
   "outputs": [],
   "source": [
    "df.loc[6605,'name']='HARLEM, NEW YORK WELCOMES YOU!!'"
   ]
  },
  {
   "cell_type": "code",
   "execution_count": 33,
   "id": "040bd90a",
   "metadata": {},
   "outputs": [],
   "source": [
    "df.loc[8841,'name']='Private room in Williamsburg'"
   ]
  },
  {
   "cell_type": "code",
   "execution_count": 34,
   "id": "c6f2cd01",
   "metadata": {},
   "outputs": [],
   "source": [
    "df.loc[11963,'name']='Cozy apartment by Central Park'"
   ]
  },
  {
   "cell_type": "code",
   "execution_count": 35,
   "id": "4a864f9d",
   "metadata": {},
   "outputs": [],
   "source": [
    "df.loc[12824,'name']='Harlem Gem'"
   ]
  },
  {
   "cell_type": "code",
   "execution_count": 36,
   "id": "e08aea2f",
   "metadata": {},
   "outputs": [],
   "source": [
    "df.loc[13059,'name']='(= RENT ME RENT ME =)'"
   ]
  },
  {
   "cell_type": "code",
   "execution_count": 37,
   "id": "38a133de",
   "metadata": {},
   "outputs": [],
   "source": [
    "df.loc[13401,'name']='686 A home away from home'"
   ]
  },
  {
   "cell_type": "code",
   "execution_count": 38,
   "id": "ca869c90",
   "metadata": {},
   "outputs": [],
   "source": [
    "df.loc[15819,'name']='Upper West Side Studio'"
   ]
  },
  {
   "cell_type": "code",
   "execution_count": 39,
   "id": "abfb2772",
   "metadata": {},
   "outputs": [],
   "source": [
    "df.loc[16071,'name']='Quarto Bronx (NY)'"
   ]
  },
  {
   "cell_type": "code",
   "execution_count": 40,
   "id": "38f7f2d3",
   "metadata": {},
   "outputs": [],
   "source": [
    "df.loc[18047,'name']='20-25 minutes to downtown NYC/30-40 to midtown'"
   ]
  },
  {
   "cell_type": "code",
   "execution_count": 41,
   "id": "a8cabc21",
   "metadata": {},
   "outputs": [],
   "source": [
    "df.loc[28889,'name']='Bushwick Oasis'"
   ]
  },
  {
   "cell_type": "markdown",
   "id": "50b9ee89",
   "metadata": {},
   "source": [
    "# finding and replacing host names\n"
   ]
  },
  {
   "cell_type": "code",
   "execution_count": 42,
   "id": "0ea885f5",
   "metadata": {},
   "outputs": [
    {
     "data": {
      "text/html": [
       "<div>\n",
       "<style scoped>\n",
       "    .dataframe tbody tr th:only-of-type {\n",
       "        vertical-align: middle;\n",
       "    }\n",
       "\n",
       "    .dataframe tbody tr th {\n",
       "        vertical-align: top;\n",
       "    }\n",
       "\n",
       "    .dataframe thead th {\n",
       "        text-align: right;\n",
       "    }\n",
       "</style>\n",
       "<table border=\"1\" class=\"dataframe\">\n",
       "  <thead>\n",
       "    <tr style=\"text-align: right;\">\n",
       "      <th></th>\n",
       "      <th>id</th>\n",
       "      <th>name</th>\n",
       "      <th>host_id</th>\n",
       "      <th>host_name</th>\n",
       "      <th>neighbourhood_group</th>\n",
       "      <th>neighbourhood</th>\n",
       "      <th>latitude</th>\n",
       "      <th>longitude</th>\n",
       "      <th>room_type</th>\n",
       "      <th>price</th>\n",
       "      <th>minimum_nights</th>\n",
       "      <th>number_of_reviews</th>\n",
       "      <th>last_review</th>\n",
       "      <th>reviews_per_month</th>\n",
       "      <th>calculated_host_listings_count</th>\n",
       "      <th>availability_365</th>\n",
       "    </tr>\n",
       "  </thead>\n",
       "  <tbody>\n",
       "    <tr>\n",
       "      <th>360</th>\n",
       "      <td>100184</td>\n",
       "      <td>Bienvenue</td>\n",
       "      <td>526653</td>\n",
       "      <td>NaN</td>\n",
       "      <td>Queens</td>\n",
       "      <td>Queens Village</td>\n",
       "      <td>40.72413</td>\n",
       "      <td>-73.76133</td>\n",
       "      <td>Private room</td>\n",
       "      <td>50</td>\n",
       "      <td>1</td>\n",
       "      <td>43</td>\n",
       "      <td>2019-07-08</td>\n",
       "      <td>0.45</td>\n",
       "      <td>1</td>\n",
       "      <td>88</td>\n",
       "    </tr>\n",
       "    <tr>\n",
       "      <th>2700</th>\n",
       "      <td>1449546</td>\n",
       "      <td>Cozy Studio in Flatbush</td>\n",
       "      <td>7779204</td>\n",
       "      <td>NaN</td>\n",
       "      <td>Brooklyn</td>\n",
       "      <td>Flatbush</td>\n",
       "      <td>40.64965</td>\n",
       "      <td>-73.96154</td>\n",
       "      <td>Entire home/apt</td>\n",
       "      <td>100</td>\n",
       "      <td>30</td>\n",
       "      <td>49</td>\n",
       "      <td>2017-01-02</td>\n",
       "      <td>0.69</td>\n",
       "      <td>1</td>\n",
       "      <td>342</td>\n",
       "    </tr>\n",
       "    <tr>\n",
       "      <th>5745</th>\n",
       "      <td>4183989</td>\n",
       "      <td>SPRING in the City!! Zen-Style Tranquil Bedroom</td>\n",
       "      <td>919218</td>\n",
       "      <td>NaN</td>\n",
       "      <td>Manhattan</td>\n",
       "      <td>Harlem</td>\n",
       "      <td>40.80606</td>\n",
       "      <td>-73.95061</td>\n",
       "      <td>Private room</td>\n",
       "      <td>86</td>\n",
       "      <td>3</td>\n",
       "      <td>34</td>\n",
       "      <td>2019-05-23</td>\n",
       "      <td>1.00</td>\n",
       "      <td>1</td>\n",
       "      <td>359</td>\n",
       "    </tr>\n",
       "    <tr>\n",
       "      <th>6075</th>\n",
       "      <td>4446862</td>\n",
       "      <td>Charming Room in Prospect Heights!</td>\n",
       "      <td>23077718</td>\n",
       "      <td>NaN</td>\n",
       "      <td>Brooklyn</td>\n",
       "      <td>Crown Heights</td>\n",
       "      <td>40.67512</td>\n",
       "      <td>-73.96146</td>\n",
       "      <td>Private room</td>\n",
       "      <td>50</td>\n",
       "      <td>1</td>\n",
       "      <td>0</td>\n",
       "      <td>NaT</td>\n",
       "      <td>NaN</td>\n",
       "      <td>1</td>\n",
       "      <td>0</td>\n",
       "    </tr>\n",
       "    <tr>\n",
       "      <th>6582</th>\n",
       "      <td>4763327</td>\n",
       "      <td>Luxurious, best location, spa inc'l</td>\n",
       "      <td>24576978</td>\n",
       "      <td>NaN</td>\n",
       "      <td>Brooklyn</td>\n",
       "      <td>Greenpoint</td>\n",
       "      <td>40.72035</td>\n",
       "      <td>-73.95355</td>\n",
       "      <td>Entire home/apt</td>\n",
       "      <td>195</td>\n",
       "      <td>1</td>\n",
       "      <td>1</td>\n",
       "      <td>2015-10-20</td>\n",
       "      <td>0.02</td>\n",
       "      <td>1</td>\n",
       "      <td>0</td>\n",
       "    </tr>\n",
       "    <tr>\n",
       "      <th>8163</th>\n",
       "      <td>6292866</td>\n",
       "      <td>Modern Quiet Gem Near All</td>\n",
       "      <td>32722063</td>\n",
       "      <td>NaN</td>\n",
       "      <td>Brooklyn</td>\n",
       "      <td>East Flatbush</td>\n",
       "      <td>40.65263</td>\n",
       "      <td>-73.93215</td>\n",
       "      <td>Entire home/apt</td>\n",
       "      <td>85</td>\n",
       "      <td>2</td>\n",
       "      <td>182</td>\n",
       "      <td>2019-06-19</td>\n",
       "      <td>3.59</td>\n",
       "      <td>2</td>\n",
       "      <td>318</td>\n",
       "    </tr>\n",
       "    <tr>\n",
       "      <th>8257</th>\n",
       "      <td>6360224</td>\n",
       "      <td>Sunny, Private room in Bushwick</td>\n",
       "      <td>33134899</td>\n",
       "      <td>NaN</td>\n",
       "      <td>Brooklyn</td>\n",
       "      <td>Bushwick</td>\n",
       "      <td>40.70146</td>\n",
       "      <td>-73.92792</td>\n",
       "      <td>Private room</td>\n",
       "      <td>37</td>\n",
       "      <td>1</td>\n",
       "      <td>1</td>\n",
       "      <td>2015-07-01</td>\n",
       "      <td>0.02</td>\n",
       "      <td>1</td>\n",
       "      <td>0</td>\n",
       "    </tr>\n",
       "    <tr>\n",
       "      <th>8852</th>\n",
       "      <td>6786181</td>\n",
       "      <td>R&amp;S Modern Spacious Hideaway</td>\n",
       "      <td>32722063</td>\n",
       "      <td>NaN</td>\n",
       "      <td>Brooklyn</td>\n",
       "      <td>East Flatbush</td>\n",
       "      <td>40.64345</td>\n",
       "      <td>-73.93643</td>\n",
       "      <td>Entire home/apt</td>\n",
       "      <td>100</td>\n",
       "      <td>2</td>\n",
       "      <td>157</td>\n",
       "      <td>2019-06-19</td>\n",
       "      <td>3.18</td>\n",
       "      <td>2</td>\n",
       "      <td>342</td>\n",
       "    </tr>\n",
       "    <tr>\n",
       "      <th>9138</th>\n",
       "      <td>6992973</td>\n",
       "      <td>1 Bedroom in Prime Williamsburg</td>\n",
       "      <td>5162530</td>\n",
       "      <td>NaN</td>\n",
       "      <td>Brooklyn</td>\n",
       "      <td>Williamsburg</td>\n",
       "      <td>40.71838</td>\n",
       "      <td>-73.95630</td>\n",
       "      <td>Entire home/apt</td>\n",
       "      <td>145</td>\n",
       "      <td>1</td>\n",
       "      <td>0</td>\n",
       "      <td>NaT</td>\n",
       "      <td>NaN</td>\n",
       "      <td>1</td>\n",
       "      <td>0</td>\n",
       "    </tr>\n",
       "    <tr>\n",
       "      <th>9817</th>\n",
       "      <td>7556587</td>\n",
       "      <td>Sunny Room in Harlem</td>\n",
       "      <td>39608626</td>\n",
       "      <td>NaN</td>\n",
       "      <td>Manhattan</td>\n",
       "      <td>Harlem</td>\n",
       "      <td>40.82929</td>\n",
       "      <td>-73.94182</td>\n",
       "      <td>Private room</td>\n",
       "      <td>28</td>\n",
       "      <td>1</td>\n",
       "      <td>1</td>\n",
       "      <td>2015-08-01</td>\n",
       "      <td>0.02</td>\n",
       "      <td>1</td>\n",
       "      <td>0</td>\n",
       "    </tr>\n",
       "    <tr>\n",
       "      <th>14040</th>\n",
       "      <td>10709846</td>\n",
       "      <td>Sunny, spacious room in Greenpoint</td>\n",
       "      <td>7822683</td>\n",
       "      <td>NaN</td>\n",
       "      <td>Brooklyn</td>\n",
       "      <td>Greenpoint</td>\n",
       "      <td>40.73539</td>\n",
       "      <td>-73.95838</td>\n",
       "      <td>Private room</td>\n",
       "      <td>55</td>\n",
       "      <td>10</td>\n",
       "      <td>2</td>\n",
       "      <td>2016-11-05</td>\n",
       "      <td>0.05</td>\n",
       "      <td>1</td>\n",
       "      <td>0</td>\n",
       "    </tr>\n",
       "    <tr>\n",
       "      <th>14631</th>\n",
       "      <td>11553543</td>\n",
       "      <td>Cozy Room Astoria</td>\n",
       "      <td>26138712</td>\n",
       "      <td>NaN</td>\n",
       "      <td>Queens</td>\n",
       "      <td>Ditmars Steinway</td>\n",
       "      <td>40.77587</td>\n",
       "      <td>-73.91775</td>\n",
       "      <td>Private room</td>\n",
       "      <td>45</td>\n",
       "      <td>1</td>\n",
       "      <td>5</td>\n",
       "      <td>2017-01-01</td>\n",
       "      <td>0.13</td>\n",
       "      <td>1</td>\n",
       "      <td>0</td>\n",
       "    </tr>\n",
       "    <tr>\n",
       "      <th>15174</th>\n",
       "      <td>12113879</td>\n",
       "      <td>Sunny, Large West Village 1 BR Near Everything</td>\n",
       "      <td>5300585</td>\n",
       "      <td>NaN</td>\n",
       "      <td>Manhattan</td>\n",
       "      <td>Chelsea</td>\n",
       "      <td>40.73949</td>\n",
       "      <td>-73.99801</td>\n",
       "      <td>Entire home/apt</td>\n",
       "      <td>220</td>\n",
       "      <td>4</td>\n",
       "      <td>81</td>\n",
       "      <td>2019-07-02</td>\n",
       "      <td>2.11</td>\n",
       "      <td>1</td>\n",
       "      <td>217</td>\n",
       "    </tr>\n",
       "    <tr>\n",
       "      <th>19565</th>\n",
       "      <td>15648096</td>\n",
       "      <td>Spacious 2 bedroom close to Manhattan</td>\n",
       "      <td>100971588</td>\n",
       "      <td>NaN</td>\n",
       "      <td>Bronx</td>\n",
       "      <td>Highbridge</td>\n",
       "      <td>40.83844</td>\n",
       "      <td>-73.92489</td>\n",
       "      <td>Entire home/apt</td>\n",
       "      <td>75</td>\n",
       "      <td>4</td>\n",
       "      <td>37</td>\n",
       "      <td>2019-07-07</td>\n",
       "      <td>1.21</td>\n",
       "      <td>1</td>\n",
       "      <td>26</td>\n",
       "    </tr>\n",
       "    <tr>\n",
       "      <th>27777</th>\n",
       "      <td>21787094</td>\n",
       "      <td>Spacious and Bright Midtown East Apartment</td>\n",
       "      <td>415290</td>\n",
       "      <td>NaN</td>\n",
       "      <td>Manhattan</td>\n",
       "      <td>Upper East Side</td>\n",
       "      <td>40.76436</td>\n",
       "      <td>-73.96836</td>\n",
       "      <td>Entire home/apt</td>\n",
       "      <td>325</td>\n",
       "      <td>1</td>\n",
       "      <td>0</td>\n",
       "      <td>NaT</td>\n",
       "      <td>NaN</td>\n",
       "      <td>1</td>\n",
       "      <td>0</td>\n",
       "    </tr>\n",
       "    <tr>\n",
       "      <th>27962</th>\n",
       "      <td>21867710</td>\n",
       "      <td>Amazing room in the centre on Manhatten! Welcome!</td>\n",
       "      <td>159156636</td>\n",
       "      <td>NaN</td>\n",
       "      <td>Manhattan</td>\n",
       "      <td>Hell's Kitchen</td>\n",
       "      <td>40.75668</td>\n",
       "      <td>-73.99097</td>\n",
       "      <td>Private room</td>\n",
       "      <td>120</td>\n",
       "      <td>1</td>\n",
       "      <td>89</td>\n",
       "      <td>2019-01-01</td>\n",
       "      <td>5.16</td>\n",
       "      <td>3</td>\n",
       "      <td>0</td>\n",
       "    </tr>\n",
       "    <tr>\n",
       "      <th>28042</th>\n",
       "      <td>21901156</td>\n",
       "      <td>Best Deal! Lovely place in Manhattan! Time Squ...</td>\n",
       "      <td>159156636</td>\n",
       "      <td>NaN</td>\n",
       "      <td>Manhattan</td>\n",
       "      <td>Hell's Kitchen</td>\n",
       "      <td>40.75656</td>\n",
       "      <td>-73.99063</td>\n",
       "      <td>Private room</td>\n",
       "      <td>120</td>\n",
       "      <td>1</td>\n",
       "      <td>109</td>\n",
       "      <td>2019-01-01</td>\n",
       "      <td>5.97</td>\n",
       "      <td>3</td>\n",
       "      <td>0</td>\n",
       "    </tr>\n",
       "    <tr>\n",
       "      <th>28274</th>\n",
       "      <td>21990808</td>\n",
       "      <td>***SLEEPING IN THE GOLDEN PLACE***</td>\n",
       "      <td>159156636</td>\n",
       "      <td>NaN</td>\n",
       "      <td>Manhattan</td>\n",
       "      <td>Hell's Kitchen</td>\n",
       "      <td>40.75835</td>\n",
       "      <td>-73.99065</td>\n",
       "      <td>Private room</td>\n",
       "      <td>120</td>\n",
       "      <td>1</td>\n",
       "      <td>88</td>\n",
       "      <td>2018-12-14</td>\n",
       "      <td>4.93</td>\n",
       "      <td>3</td>\n",
       "      <td>0</td>\n",
       "    </tr>\n",
       "    <tr>\n",
       "      <th>30570</th>\n",
       "      <td>23660605</td>\n",
       "      <td>Private Bedroom w/ Balcony view of Central Park</td>\n",
       "      <td>177146433</td>\n",
       "      <td>NaN</td>\n",
       "      <td>Manhattan</td>\n",
       "      <td>East Harlem</td>\n",
       "      <td>40.79766</td>\n",
       "      <td>-73.94824</td>\n",
       "      <td>Private room</td>\n",
       "      <td>139</td>\n",
       "      <td>1</td>\n",
       "      <td>6</td>\n",
       "      <td>2018-08-12</td>\n",
       "      <td>0.46</td>\n",
       "      <td>1</td>\n",
       "      <td>0</td>\n",
       "    </tr>\n",
       "    <tr>\n",
       "      <th>32193</th>\n",
       "      <td>25180572</td>\n",
       "      <td>Beautiful Cozy Studio Apt. UWS</td>\n",
       "      <td>119609345</td>\n",
       "      <td>NaN</td>\n",
       "      <td>Manhattan</td>\n",
       "      <td>Upper West Side</td>\n",
       "      <td>40.77701</td>\n",
       "      <td>-73.97667</td>\n",
       "      <td>Entire home/apt</td>\n",
       "      <td>180</td>\n",
       "      <td>4</td>\n",
       "      <td>0</td>\n",
       "      <td>NaT</td>\n",
       "      <td>NaN</td>\n",
       "      <td>1</td>\n",
       "      <td>0</td>\n",
       "    </tr>\n",
       "    <tr>\n",
       "      <th>38992</th>\n",
       "      <td>30468335</td>\n",
       "      <td>LARGE Prospect Lefferts Gardens Bedroom</td>\n",
       "      <td>228750026</td>\n",
       "      <td>NaN</td>\n",
       "      <td>Brooklyn</td>\n",
       "      <td>Flatbush</td>\n",
       "      <td>40.65152</td>\n",
       "      <td>-73.95271</td>\n",
       "      <td>Private room</td>\n",
       "      <td>55</td>\n",
       "      <td>7</td>\n",
       "      <td>0</td>\n",
       "      <td>NaT</td>\n",
       "      <td>NaN</td>\n",
       "      <td>1</td>\n",
       "      <td>69</td>\n",
       "    </tr>\n",
       "  </tbody>\n",
       "</table>\n",
       "</div>"
      ],
      "text/plain": [
       "             id                                               name    host_id  \\\n",
       "360      100184                                          Bienvenue     526653   \n",
       "2700    1449546                            Cozy Studio in Flatbush    7779204   \n",
       "5745    4183989    SPRING in the City!! Zen-Style Tranquil Bedroom     919218   \n",
       "6075    4446862                 Charming Room in Prospect Heights!   23077718   \n",
       "6582    4763327                Luxurious, best location, spa inc'l   24576978   \n",
       "8163    6292866                          Modern Quiet Gem Near All   32722063   \n",
       "8257    6360224                    Sunny, Private room in Bushwick   33134899   \n",
       "8852    6786181                       R&S Modern Spacious Hideaway   32722063   \n",
       "9138    6992973                    1 Bedroom in Prime Williamsburg    5162530   \n",
       "9817    7556587                               Sunny Room in Harlem   39608626   \n",
       "14040  10709846                 Sunny, spacious room in Greenpoint    7822683   \n",
       "14631  11553543                                  Cozy Room Astoria   26138712   \n",
       "15174  12113879     Sunny, Large West Village 1 BR Near Everything    5300585   \n",
       "19565  15648096              Spacious 2 bedroom close to Manhattan  100971588   \n",
       "27777  21787094         Spacious and Bright Midtown East Apartment     415290   \n",
       "27962  21867710  Amazing room in the centre on Manhatten! Welcome!  159156636   \n",
       "28042  21901156  Best Deal! Lovely place in Manhattan! Time Squ...  159156636   \n",
       "28274  21990808                 ***SLEEPING IN THE GOLDEN PLACE***  159156636   \n",
       "30570  23660605    Private Bedroom w/ Balcony view of Central Park  177146433   \n",
       "32193  25180572                     Beautiful Cozy Studio Apt. UWS  119609345   \n",
       "38992  30468335            LARGE Prospect Lefferts Gardens Bedroom  228750026   \n",
       "\n",
       "      host_name neighbourhood_group     neighbourhood  latitude  longitude  \\\n",
       "360         NaN              Queens    Queens Village  40.72413  -73.76133   \n",
       "2700        NaN            Brooklyn          Flatbush  40.64965  -73.96154   \n",
       "5745        NaN           Manhattan            Harlem  40.80606  -73.95061   \n",
       "6075        NaN            Brooklyn     Crown Heights  40.67512  -73.96146   \n",
       "6582        NaN            Brooklyn        Greenpoint  40.72035  -73.95355   \n",
       "8163        NaN            Brooklyn     East Flatbush  40.65263  -73.93215   \n",
       "8257        NaN            Brooklyn          Bushwick  40.70146  -73.92792   \n",
       "8852        NaN            Brooklyn     East Flatbush  40.64345  -73.93643   \n",
       "9138        NaN            Brooklyn      Williamsburg  40.71838  -73.95630   \n",
       "9817        NaN           Manhattan            Harlem  40.82929  -73.94182   \n",
       "14040       NaN            Brooklyn        Greenpoint  40.73539  -73.95838   \n",
       "14631       NaN              Queens  Ditmars Steinway  40.77587  -73.91775   \n",
       "15174       NaN           Manhattan           Chelsea  40.73949  -73.99801   \n",
       "19565       NaN               Bronx        Highbridge  40.83844  -73.92489   \n",
       "27777       NaN           Manhattan   Upper East Side  40.76436  -73.96836   \n",
       "27962       NaN           Manhattan    Hell's Kitchen  40.75668  -73.99097   \n",
       "28042       NaN           Manhattan    Hell's Kitchen  40.75656  -73.99063   \n",
       "28274       NaN           Manhattan    Hell's Kitchen  40.75835  -73.99065   \n",
       "30570       NaN           Manhattan       East Harlem  40.79766  -73.94824   \n",
       "32193       NaN           Manhattan   Upper West Side  40.77701  -73.97667   \n",
       "38992       NaN            Brooklyn          Flatbush  40.65152  -73.95271   \n",
       "\n",
       "             room_type  price  minimum_nights  number_of_reviews last_review  \\\n",
       "360       Private room     50               1                 43  2019-07-08   \n",
       "2700   Entire home/apt    100              30                 49  2017-01-02   \n",
       "5745      Private room     86               3                 34  2019-05-23   \n",
       "6075      Private room     50               1                  0         NaT   \n",
       "6582   Entire home/apt    195               1                  1  2015-10-20   \n",
       "8163   Entire home/apt     85               2                182  2019-06-19   \n",
       "8257      Private room     37               1                  1  2015-07-01   \n",
       "8852   Entire home/apt    100               2                157  2019-06-19   \n",
       "9138   Entire home/apt    145               1                  0         NaT   \n",
       "9817      Private room     28               1                  1  2015-08-01   \n",
       "14040     Private room     55              10                  2  2016-11-05   \n",
       "14631     Private room     45               1                  5  2017-01-01   \n",
       "15174  Entire home/apt    220               4                 81  2019-07-02   \n",
       "19565  Entire home/apt     75               4                 37  2019-07-07   \n",
       "27777  Entire home/apt    325               1                  0         NaT   \n",
       "27962     Private room    120               1                 89  2019-01-01   \n",
       "28042     Private room    120               1                109  2019-01-01   \n",
       "28274     Private room    120               1                 88  2018-12-14   \n",
       "30570     Private room    139               1                  6  2018-08-12   \n",
       "32193  Entire home/apt    180               4                  0         NaT   \n",
       "38992     Private room     55               7                  0         NaT   \n",
       "\n",
       "       reviews_per_month  calculated_host_listings_count  availability_365  \n",
       "360                 0.45                               1                88  \n",
       "2700                0.69                               1               342  \n",
       "5745                1.00                               1               359  \n",
       "6075                 NaN                               1                 0  \n",
       "6582                0.02                               1                 0  \n",
       "8163                3.59                               2               318  \n",
       "8257                0.02                               1                 0  \n",
       "8852                3.18                               2               342  \n",
       "9138                 NaN                               1                 0  \n",
       "9817                0.02                               1                 0  \n",
       "14040               0.05                               1                 0  \n",
       "14631               0.13                               1                 0  \n",
       "15174               2.11                               1               217  \n",
       "19565               1.21                               1                26  \n",
       "27777                NaN                               1                 0  \n",
       "27962               5.16                               3                 0  \n",
       "28042               5.97                               3                 0  \n",
       "28274               4.93                               3                 0  \n",
       "30570               0.46                               1                 0  \n",
       "32193                NaN                               1                 0  \n",
       "38992                NaN                               1                69  "
      ]
     },
     "execution_count": 42,
     "metadata": {},
     "output_type": "execute_result"
    }
   ],
   "source": [
    "df[df['host_name'].isnull()]"
   ]
  },
  {
   "cell_type": "code",
   "execution_count": 43,
   "id": "801a88ea",
   "metadata": {},
   "outputs": [
    {
     "data": {
      "text/plain": [
       "'DuChess'"
      ]
     },
     "execution_count": 43,
     "metadata": {},
     "output_type": "execute_result"
    }
   ],
   "source": [
    " df[(df['neighbourhood_group']=='Queens')& (df['neighbourhood']=='Queens Village')]['host_name'].mode()[0]"
   ]
  },
  {
   "cell_type": "code",
   "execution_count": 44,
   "id": "0297797d",
   "metadata": {},
   "outputs": [],
   "source": [
    "df.loc[360,'host_name']='DuChess'"
   ]
  },
  {
   "cell_type": "code",
   "execution_count": 45,
   "id": "012e08d5",
   "metadata": {},
   "outputs": [
    {
     "data": {
      "text/plain": [
       "'Elizabeth'"
      ]
     },
     "execution_count": 45,
     "metadata": {},
     "output_type": "execute_result"
    }
   ],
   "source": [
    " df[(df['neighbourhood_group']=='Brooklyn')& (df['neighbourhood']=='Flatbush')]['host_name'].mode()[0]"
   ]
  },
  {
   "cell_type": "code",
   "execution_count": 46,
   "id": "ebe5f470",
   "metadata": {},
   "outputs": [],
   "source": [
    "df.loc[2700,'host_name']='Elizabeth'"
   ]
  },
  {
   "cell_type": "code",
   "execution_count": 47,
   "id": "91e7a1ec",
   "metadata": {},
   "outputs": [
    {
     "data": {
      "text/plain": [
       "'David'"
      ]
     },
     "execution_count": 47,
     "metadata": {},
     "output_type": "execute_result"
    }
   ],
   "source": [
    " df[(df['neighbourhood_group']=='Manhattan')& (df['neighbourhood']=='Harlem')]['host_name'].mode()[0]"
   ]
  },
  {
   "cell_type": "code",
   "execution_count": 48,
   "id": "5c735eb1",
   "metadata": {},
   "outputs": [],
   "source": [
    "df.loc[5745,'host_name']='David'"
   ]
  },
  {
   "cell_type": "code",
   "execution_count": 49,
   "id": "979426d9",
   "metadata": {},
   "outputs": [
    {
     "data": {
      "text/plain": [
       "'Alex'"
      ]
     },
     "execution_count": 49,
     "metadata": {},
     "output_type": "execute_result"
    }
   ],
   "source": [
    " df[(df['neighbourhood_group']=='Brooklyn')& (df['neighbourhood']=='Crown Heights')]['host_name'].mode()[0]"
   ]
  },
  {
   "cell_type": "code",
   "execution_count": 50,
   "id": "0cda451b",
   "metadata": {},
   "outputs": [],
   "source": [
    "df.loc[6075,'host_name']='Alex'"
   ]
  },
  {
   "cell_type": "code",
   "execution_count": 51,
   "id": "96992624",
   "metadata": {},
   "outputs": [
    {
     "data": {
      "text/plain": [
       "'Vida'"
      ]
     },
     "execution_count": 51,
     "metadata": {},
     "output_type": "execute_result"
    }
   ],
   "source": [
    " df[(df['neighbourhood_group']=='Brooklyn')& (df['neighbourhood']=='Greenpoint')]['host_name'].mode()[0]"
   ]
  },
  {
   "cell_type": "code",
   "execution_count": 52,
   "id": "b773364d",
   "metadata": {},
   "outputs": [],
   "source": [
    "df.loc[6582,'host_name']='Vida'"
   ]
  },
  {
   "cell_type": "code",
   "execution_count": 53,
   "id": "3849a315",
   "metadata": {},
   "outputs": [
    {
     "data": {
      "text/plain": [
       "'Stat'"
      ]
     },
     "execution_count": 53,
     "metadata": {},
     "output_type": "execute_result"
    }
   ],
   "source": [
    "df[(df['neighbourhood_group']=='Brooklyn')& (df['neighbourhood']=='East Flatbush')]['host_name'].mode()[0]"
   ]
  },
  {
   "cell_type": "code",
   "execution_count": 54,
   "id": "1b436f3d",
   "metadata": {},
   "outputs": [],
   "source": [
    "df.loc[8163,'host_name']='Stat'"
   ]
  },
  {
   "cell_type": "code",
   "execution_count": 55,
   "id": "c339cdfe",
   "metadata": {},
   "outputs": [
    {
     "data": {
      "text/plain": [
       "'Sergii'"
      ]
     },
     "execution_count": 55,
     "metadata": {},
     "output_type": "execute_result"
    }
   ],
   "source": [
    "df[(df['neighbourhood_group']=='Brooklyn')& (df['neighbourhood']=='Bushwick')]['host_name'].mode()[0]"
   ]
  },
  {
   "cell_type": "code",
   "execution_count": 56,
   "id": "fedb0dd7",
   "metadata": {},
   "outputs": [],
   "source": [
    "df.loc[8257,'host_name']='Sergii'"
   ]
  },
  {
   "cell_type": "code",
   "execution_count": 57,
   "id": "19d94ecb",
   "metadata": {},
   "outputs": [],
   "source": [
    "df.loc[8852,'host_name']='Stat'"
   ]
  },
  {
   "cell_type": "code",
   "execution_count": 58,
   "id": "97f590ec",
   "metadata": {},
   "outputs": [
    {
     "data": {
      "text/plain": [
       "'Michael'"
      ]
     },
     "execution_count": 58,
     "metadata": {},
     "output_type": "execute_result"
    }
   ],
   "source": [
    "df[(df['neighbourhood_group']=='Brooklyn')& (df['neighbourhood']=='Williamsburg')]['host_name'].mode()[0]"
   ]
  },
  {
   "cell_type": "code",
   "execution_count": 59,
   "id": "d471db3a",
   "metadata": {},
   "outputs": [],
   "source": [
    "df.loc[9138,'host_name']='Michael'"
   ]
  },
  {
   "cell_type": "code",
   "execution_count": 60,
   "id": "4aaf4925",
   "metadata": {},
   "outputs": [],
   "source": [
    "df.loc[9817,'host_name']='David'"
   ]
  },
  {
   "cell_type": "code",
   "execution_count": 61,
   "id": "1a573a47",
   "metadata": {},
   "outputs": [],
   "source": [
    "df.loc[14040,'host_name']='Vida'"
   ]
  },
  {
   "cell_type": "code",
   "execution_count": 62,
   "id": "c2d8da24",
   "metadata": {},
   "outputs": [
    {
     "data": {
      "text/plain": [
       "'Freda'"
      ]
     },
     "execution_count": 62,
     "metadata": {},
     "output_type": "execute_result"
    }
   ],
   "source": [
    " df[(df['neighbourhood_group']=='Queens')& (df['neighbourhood']=='Ditmars Steinway')]['host_name'].mode()[0]"
   ]
  },
  {
   "cell_type": "code",
   "execution_count": 63,
   "id": "72a27e18",
   "metadata": {},
   "outputs": [],
   "source": [
    "df.loc[14631,'host_name']='Freda'"
   ]
  },
  {
   "cell_type": "code",
   "execution_count": 64,
   "id": "db4ac3ee",
   "metadata": {},
   "outputs": [
    {
     "data": {
      "text/plain": [
       "'Blueground'"
      ]
     },
     "execution_count": 64,
     "metadata": {},
     "output_type": "execute_result"
    }
   ],
   "source": [
    " df[(df['neighbourhood_group']=='Manhattan')& (df['neighbourhood']=='Chelsea')]['host_name'].mode()[0]"
   ]
  },
  {
   "cell_type": "code",
   "execution_count": 65,
   "id": "5fdb5edf",
   "metadata": {},
   "outputs": [],
   "source": [
    "df.loc[15174,'host_name']='Blueground'"
   ]
  },
  {
   "cell_type": "code",
   "execution_count": 66,
   "id": "c13617df",
   "metadata": {},
   "outputs": [
    {
     "data": {
      "text/plain": [
       "'Nahuel'"
      ]
     },
     "execution_count": 66,
     "metadata": {},
     "output_type": "execute_result"
    }
   ],
   "source": [
    " df[(df['neighbourhood_group']=='Bronx')& (df['neighbourhood']=='Highbridge')]['host_name'].mode()[0]"
   ]
  },
  {
   "cell_type": "code",
   "execution_count": 67,
   "id": "ef14e3cb",
   "metadata": {},
   "outputs": [],
   "source": [
    "df.loc[19565,'host_name']='Nahuel'"
   ]
  },
  {
   "cell_type": "code",
   "execution_count": 68,
   "id": "923bdc56",
   "metadata": {},
   "outputs": [
    {
     "data": {
      "text/plain": [
       "'Yaacov'"
      ]
     },
     "execution_count": 68,
     "metadata": {},
     "output_type": "execute_result"
    }
   ],
   "source": [
    " df[(df['neighbourhood_group']=='Manhattan')& (df['neighbourhood']=='Upper East Side')]['host_name'].mode()[0]"
   ]
  },
  {
   "cell_type": "code",
   "execution_count": 69,
   "id": "5f5a53cc",
   "metadata": {},
   "outputs": [],
   "source": [
    "df.loc[27777,'host_name']='Yaacov'"
   ]
  },
  {
   "cell_type": "code",
   "execution_count": 70,
   "id": "edfa41c6",
   "metadata": {},
   "outputs": [
    {
     "data": {
      "text/plain": [
       "'John'"
      ]
     },
     "execution_count": 70,
     "metadata": {},
     "output_type": "execute_result"
    }
   ],
   "source": [
    " df[(df['neighbourhood_group']=='Manhattan')& (df['neighbourhood']==\"Hell's Kitchen\")]['host_name'].mode()[0]"
   ]
  },
  {
   "cell_type": "code",
   "execution_count": 71,
   "id": "ff836375",
   "metadata": {},
   "outputs": [],
   "source": [
    "df.loc[27962,'host_name']='John'"
   ]
  },
  {
   "cell_type": "code",
   "execution_count": 72,
   "id": "ffed1c09",
   "metadata": {},
   "outputs": [],
   "source": [
    "df.loc[28042,'host_name']='John'"
   ]
  },
  {
   "cell_type": "code",
   "execution_count": 73,
   "id": "05a52fc1",
   "metadata": {},
   "outputs": [],
   "source": [
    "df.loc[28274,'host_name']='John'"
   ]
  },
  {
   "cell_type": "code",
   "execution_count": 74,
   "id": "07dd26d8",
   "metadata": {},
   "outputs": [
    {
     "data": {
      "text/plain": [
       "'Abraham'"
      ]
     },
     "execution_count": 74,
     "metadata": {},
     "output_type": "execute_result"
    }
   ],
   "source": [
    " df[(df['neighbourhood_group']=='Manhattan')& (df['neighbourhood']==\"East Harlem\")]['host_name'].mode()[0]"
   ]
  },
  {
   "cell_type": "code",
   "execution_count": 75,
   "id": "07dc8942",
   "metadata": {},
   "outputs": [],
   "source": [
    "df.loc[30570,'host_name']='Abraham'"
   ]
  },
  {
   "cell_type": "code",
   "execution_count": 76,
   "id": "c1add614",
   "metadata": {},
   "outputs": [
    {
     "data": {
      "text/plain": [
       "'Emily'"
      ]
     },
     "execution_count": 76,
     "metadata": {},
     "output_type": "execute_result"
    }
   ],
   "source": [
    " df[(df['neighbourhood_group']=='Manhattan')& (df['neighbourhood']=='Upper West Side')]['host_name'].mode()[0]"
   ]
  },
  {
   "cell_type": "code",
   "execution_count": 77,
   "id": "8f72483f",
   "metadata": {},
   "outputs": [],
   "source": [
    "df.loc[32193,'host_name']='Emily'\n"
   ]
  },
  {
   "cell_type": "code",
   "execution_count": 78,
   "id": "17728b74",
   "metadata": {},
   "outputs": [],
   "source": [
    "df.loc[38992,'host_name']='Elizabeth'"
   ]
  },
  {
   "cell_type": "markdown",
   "id": "615b23ef",
   "metadata": {},
   "source": [
    "# Now dealing with last_review , reviews_per_month "
   ]
  },
  {
   "cell_type": "code",
   "execution_count": 79,
   "id": "fb52823d",
   "metadata": {},
   "outputs": [
    {
     "data": {
      "text/plain": [
       "(10052, 16)"
      ]
     },
     "execution_count": 79,
     "metadata": {},
     "output_type": "execute_result"
    }
   ],
   "source": [
    "df[df['reviews_per_month'].isnull()].shape"
   ]
  },
  {
   "cell_type": "code",
   "execution_count": 80,
   "id": "d2a573cb",
   "metadata": {},
   "outputs": [],
   "source": [
    "df['last_review'].fillna(method='ffill', inplace=True)"
   ]
  },
  {
   "cell_type": "code",
   "execution_count": 81,
   "id": "4075fd79",
   "metadata": {},
   "outputs": [],
   "source": [
    "df['reviews_per_month'].fillna(0, inplace=True)"
   ]
  },
  {
   "cell_type": "code",
   "execution_count": 82,
   "id": "5aff70b9",
   "metadata": {},
   "outputs": [
    {
     "name": "stdout",
     "output_type": "stream",
     "text": [
      "<class 'pandas.core.frame.DataFrame'>\n",
      "RangeIndex: 48895 entries, 0 to 48894\n",
      "Data columns (total 16 columns):\n",
      " #   Column                          Non-Null Count  Dtype         \n",
      "---  ------                          --------------  -----         \n",
      " 0   id                              48895 non-null  int64         \n",
      " 1   name                            48895 non-null  object        \n",
      " 2   host_id                         48895 non-null  int64         \n",
      " 3   host_name                       48895 non-null  object        \n",
      " 4   neighbourhood_group             48895 non-null  object        \n",
      " 5   neighbourhood                   48895 non-null  object        \n",
      " 6   latitude                        48895 non-null  float64       \n",
      " 7   longitude                       48895 non-null  float64       \n",
      " 8   room_type                       48895 non-null  object        \n",
      " 9   price                           48895 non-null  int64         \n",
      " 10  minimum_nights                  48895 non-null  int64         \n",
      " 11  number_of_reviews               48895 non-null  int64         \n",
      " 12  last_review                     48895 non-null  datetime64[ns]\n",
      " 13  reviews_per_month               48895 non-null  float64       \n",
      " 14  calculated_host_listings_count  48895 non-null  int64         \n",
      " 15  availability_365                48895 non-null  int64         \n",
      "dtypes: datetime64[ns](1), float64(3), int64(7), object(5)\n",
      "memory usage: 6.0+ MB\n"
     ]
    }
   ],
   "source": [
    "df.info()"
   ]
  },
  {
   "cell_type": "code",
   "execution_count": 83,
   "id": "05b5ee7e",
   "metadata": {},
   "outputs": [],
   "source": [
    "# All the columns in the dataset have correct DType and have zero null values"
   ]
  },
  {
   "cell_type": "code",
   "execution_count": 84,
   "id": "e93a4939",
   "metadata": {},
   "outputs": [
    {
     "data": {
      "text/html": [
       "<div>\n",
       "<style scoped>\n",
       "    .dataframe tbody tr th:only-of-type {\n",
       "        vertical-align: middle;\n",
       "    }\n",
       "\n",
       "    .dataframe tbody tr th {\n",
       "        vertical-align: top;\n",
       "    }\n",
       "\n",
       "    .dataframe thead th {\n",
       "        text-align: right;\n",
       "    }\n",
       "</style>\n",
       "<table border=\"1\" class=\"dataframe\">\n",
       "  <thead>\n",
       "    <tr style=\"text-align: right;\">\n",
       "      <th></th>\n",
       "      <th>id</th>\n",
       "      <th>name</th>\n",
       "      <th>host_id</th>\n",
       "      <th>host_name</th>\n",
       "      <th>neighbourhood_group</th>\n",
       "      <th>neighbourhood</th>\n",
       "      <th>latitude</th>\n",
       "      <th>longitude</th>\n",
       "      <th>room_type</th>\n",
       "      <th>price</th>\n",
       "      <th>minimum_nights</th>\n",
       "      <th>number_of_reviews</th>\n",
       "      <th>last_review</th>\n",
       "      <th>reviews_per_month</th>\n",
       "      <th>calculated_host_listings_count</th>\n",
       "      <th>availability_365</th>\n",
       "    </tr>\n",
       "  </thead>\n",
       "  <tbody>\n",
       "    <tr>\n",
       "      <th>2021</th>\n",
       "      <td>894063</td>\n",
       "      <td>Penthouse patio,city view,BIG bed</td>\n",
       "      <td>1803302</td>\n",
       "      <td>Lacey</td>\n",
       "      <td>Brooklyn</td>\n",
       "      <td>Williamsburg</td>\n",
       "      <td>40.71216</td>\n",
       "      <td>-73.96326</td>\n",
       "      <td>Private room</td>\n",
       "      <td>98</td>\n",
       "      <td>3</td>\n",
       "      <td>78</td>\n",
       "      <td>2019-05-27</td>\n",
       "      <td>1.01</td>\n",
       "      <td>1</td>\n",
       "      <td>268</td>\n",
       "    </tr>\n",
       "    <tr>\n",
       "      <th>19449</th>\n",
       "      <td>15513127</td>\n",
       "      <td>Brooklyn Apartment</td>\n",
       "      <td>62644193</td>\n",
       "      <td>Elle</td>\n",
       "      <td>Brooklyn</td>\n",
       "      <td>East Flatbush</td>\n",
       "      <td>40.64335</td>\n",
       "      <td>-73.92981</td>\n",
       "      <td>Private room</td>\n",
       "      <td>70</td>\n",
       "      <td>1</td>\n",
       "      <td>0</td>\n",
       "      <td>2018-10-17</td>\n",
       "      <td>0.00</td>\n",
       "      <td>1</td>\n",
       "      <td>157</td>\n",
       "    </tr>\n",
       "    <tr>\n",
       "      <th>47419</th>\n",
       "      <td>35718849</td>\n",
       "      <td>PRIVACY CHELSEA BEAUTY WITH PRIVATE ENTRANCE</td>\n",
       "      <td>14563616</td>\n",
       "      <td>Anna/Phillip</td>\n",
       "      <td>Manhattan</td>\n",
       "      <td>Chelsea</td>\n",
       "      <td>40.73724</td>\n",
       "      <td>-73.99429</td>\n",
       "      <td>Entire home/apt</td>\n",
       "      <td>249</td>\n",
       "      <td>1</td>\n",
       "      <td>5</td>\n",
       "      <td>2019-07-01</td>\n",
       "      <td>5.00</td>\n",
       "      <td>2</td>\n",
       "      <td>125</td>\n",
       "    </tr>\n",
       "    <tr>\n",
       "      <th>10955</th>\n",
       "      <td>8456825</td>\n",
       "      <td>Bushwick Oasis</td>\n",
       "      <td>44516268</td>\n",
       "      <td>Tom And Claudia</td>\n",
       "      <td>Brooklyn</td>\n",
       "      <td>Bushwick</td>\n",
       "      <td>40.70337</td>\n",
       "      <td>-73.93071</td>\n",
       "      <td>Entire home/apt</td>\n",
       "      <td>70</td>\n",
       "      <td>2</td>\n",
       "      <td>171</td>\n",
       "      <td>2019-06-22</td>\n",
       "      <td>3.74</td>\n",
       "      <td>1</td>\n",
       "      <td>183</td>\n",
       "    </tr>\n",
       "    <tr>\n",
       "      <th>39581</th>\n",
       "      <td>30812751</td>\n",
       "      <td>Double Double Room · Empire CIty New York</td>\n",
       "      <td>224414117</td>\n",
       "      <td>Gabriel</td>\n",
       "      <td>Manhattan</td>\n",
       "      <td>Hell's Kitchen</td>\n",
       "      <td>40.75467</td>\n",
       "      <td>-73.99657</td>\n",
       "      <td>Private room</td>\n",
       "      <td>199</td>\n",
       "      <td>1</td>\n",
       "      <td>4</td>\n",
       "      <td>2019-01-20</td>\n",
       "      <td>0.61</td>\n",
       "      <td>30</td>\n",
       "      <td>363</td>\n",
       "    </tr>\n",
       "    <tr>\n",
       "      <th>9382</th>\n",
       "      <td>7195202</td>\n",
       "      <td>Sunny central Wmsburg Apartment</td>\n",
       "      <td>2902496</td>\n",
       "      <td>Craig</td>\n",
       "      <td>Brooklyn</td>\n",
       "      <td>Williamsburg</td>\n",
       "      <td>40.71130</td>\n",
       "      <td>-73.94249</td>\n",
       "      <td>Entire home/apt</td>\n",
       "      <td>99</td>\n",
       "      <td>1</td>\n",
       "      <td>2</td>\n",
       "      <td>2015-11-29</td>\n",
       "      <td>0.04</td>\n",
       "      <td>1</td>\n",
       "      <td>0</td>\n",
       "    </tr>\n",
       "    <tr>\n",
       "      <th>10370</th>\n",
       "      <td>7936698</td>\n",
       "      <td>Spacious, sunny bedroom next to Prospect Park!</td>\n",
       "      <td>2128535</td>\n",
       "      <td>Lily</td>\n",
       "      <td>Brooklyn</td>\n",
       "      <td>Prospect-Lefferts Gardens</td>\n",
       "      <td>40.66020</td>\n",
       "      <td>-73.96246</td>\n",
       "      <td>Private room</td>\n",
       "      <td>50</td>\n",
       "      <td>3</td>\n",
       "      <td>5</td>\n",
       "      <td>2017-01-14</td>\n",
       "      <td>0.11</td>\n",
       "      <td>1</td>\n",
       "      <td>0</td>\n",
       "    </tr>\n",
       "    <tr>\n",
       "      <th>17253</th>\n",
       "      <td>13650422</td>\n",
       "      <td>Convenient Financial District Studio</td>\n",
       "      <td>2486611</td>\n",
       "      <td>Jem</td>\n",
       "      <td>Manhattan</td>\n",
       "      <td>Financial District</td>\n",
       "      <td>40.70884</td>\n",
       "      <td>-74.00754</td>\n",
       "      <td>Entire home/apt</td>\n",
       "      <td>130</td>\n",
       "      <td>2</td>\n",
       "      <td>15</td>\n",
       "      <td>2018-05-31</td>\n",
       "      <td>0.42</td>\n",
       "      <td>1</td>\n",
       "      <td>0</td>\n",
       "    </tr>\n",
       "    <tr>\n",
       "      <th>15978</th>\n",
       "      <td>12916073</td>\n",
       "      <td>10 min from JFK and 30min to NYC</td>\n",
       "      <td>70827984</td>\n",
       "      <td>Digna</td>\n",
       "      <td>Brooklyn</td>\n",
       "      <td>East New York</td>\n",
       "      <td>40.66921</td>\n",
       "      <td>-73.87797</td>\n",
       "      <td>Entire home/apt</td>\n",
       "      <td>123</td>\n",
       "      <td>4</td>\n",
       "      <td>63</td>\n",
       "      <td>2019-06-03</td>\n",
       "      <td>1.67</td>\n",
       "      <td>1</td>\n",
       "      <td>67</td>\n",
       "    </tr>\n",
       "    <tr>\n",
       "      <th>2851</th>\n",
       "      <td>1614817</td>\n",
       "      <td>PRIME apartment in East Village!</td>\n",
       "      <td>5283853</td>\n",
       "      <td>Chara</td>\n",
       "      <td>Manhattan</td>\n",
       "      <td>East Village</td>\n",
       "      <td>40.73082</td>\n",
       "      <td>-73.98693</td>\n",
       "      <td>Entire home/apt</td>\n",
       "      <td>160</td>\n",
       "      <td>2</td>\n",
       "      <td>44</td>\n",
       "      <td>2018-01-01</td>\n",
       "      <td>0.64</td>\n",
       "      <td>2</td>\n",
       "      <td>0</td>\n",
       "    </tr>\n",
       "  </tbody>\n",
       "</table>\n",
       "</div>"
      ],
      "text/plain": [
       "             id                                            name    host_id  \\\n",
       "2021     894063               Penthouse patio,city view,BIG bed    1803302   \n",
       "19449  15513127                              Brooklyn Apartment   62644193   \n",
       "47419  35718849    PRIVACY CHELSEA BEAUTY WITH PRIVATE ENTRANCE   14563616   \n",
       "10955   8456825                                  Bushwick Oasis   44516268   \n",
       "39581  30812751       Double Double Room · Empire CIty New York  224414117   \n",
       "9382    7195202                 Sunny central Wmsburg Apartment    2902496   \n",
       "10370   7936698  Spacious, sunny bedroom next to Prospect Park!    2128535   \n",
       "17253  13650422            Convenient Financial District Studio    2486611   \n",
       "15978  12916073                10 min from JFK and 30min to NYC   70827984   \n",
       "2851    1614817                PRIME apartment in East Village!    5283853   \n",
       "\n",
       "             host_name neighbourhood_group              neighbourhood  \\\n",
       "2021             Lacey            Brooklyn               Williamsburg   \n",
       "19449             Elle            Brooklyn              East Flatbush   \n",
       "47419     Anna/Phillip           Manhattan                    Chelsea   \n",
       "10955  Tom And Claudia            Brooklyn                   Bushwick   \n",
       "39581          Gabriel           Manhattan             Hell's Kitchen   \n",
       "9382             Craig            Brooklyn               Williamsburg   \n",
       "10370             Lily            Brooklyn  Prospect-Lefferts Gardens   \n",
       "17253              Jem           Manhattan         Financial District   \n",
       "15978            Digna            Brooklyn              East New York   \n",
       "2851             Chara           Manhattan               East Village   \n",
       "\n",
       "       latitude  longitude        room_type  price  minimum_nights  \\\n",
       "2021   40.71216  -73.96326     Private room     98               3   \n",
       "19449  40.64335  -73.92981     Private room     70               1   \n",
       "47419  40.73724  -73.99429  Entire home/apt    249               1   \n",
       "10955  40.70337  -73.93071  Entire home/apt     70               2   \n",
       "39581  40.75467  -73.99657     Private room    199               1   \n",
       "9382   40.71130  -73.94249  Entire home/apt     99               1   \n",
       "10370  40.66020  -73.96246     Private room     50               3   \n",
       "17253  40.70884  -74.00754  Entire home/apt    130               2   \n",
       "15978  40.66921  -73.87797  Entire home/apt    123               4   \n",
       "2851   40.73082  -73.98693  Entire home/apt    160               2   \n",
       "\n",
       "       number_of_reviews last_review  reviews_per_month  \\\n",
       "2021                  78  2019-05-27               1.01   \n",
       "19449                  0  2018-10-17               0.00   \n",
       "47419                  5  2019-07-01               5.00   \n",
       "10955                171  2019-06-22               3.74   \n",
       "39581                  4  2019-01-20               0.61   \n",
       "9382                   2  2015-11-29               0.04   \n",
       "10370                  5  2017-01-14               0.11   \n",
       "17253                 15  2018-05-31               0.42   \n",
       "15978                 63  2019-06-03               1.67   \n",
       "2851                  44  2018-01-01               0.64   \n",
       "\n",
       "       calculated_host_listings_count  availability_365  \n",
       "2021                                1               268  \n",
       "19449                               1               157  \n",
       "47419                               2               125  \n",
       "10955                               1               183  \n",
       "39581                              30               363  \n",
       "9382                                1                 0  \n",
       "10370                               1                 0  \n",
       "17253                               1                 0  \n",
       "15978                               1                67  \n",
       "2851                                2                 0  "
      ]
     },
     "execution_count": 84,
     "metadata": {},
     "output_type": "execute_result"
    }
   ],
   "source": [
    "df.sample(10)"
   ]
  },
  {
   "cell_type": "markdown",
   "id": "ff79149a",
   "metadata": {},
   "source": [
    "# Detecting outliers"
   ]
  },
  {
   "cell_type": "code",
   "execution_count": 113,
   "id": "4c978630",
   "metadata": {},
   "outputs": [],
   "source": [
    "# Plotting boxplot for (price, minimum_nights,number_of_reviews,reviews_per_month, calculated_host_listings_count) to detect outliers"
   ]
  },
  {
   "cell_type": "code",
   "execution_count": 114,
   "id": "e82a0f3b",
   "metadata": {},
   "outputs": [
    {
     "data": {
      "text/html": [
       "<div>\n",
       "<style scoped>\n",
       "    .dataframe tbody tr th:only-of-type {\n",
       "        vertical-align: middle;\n",
       "    }\n",
       "\n",
       "    .dataframe tbody tr th {\n",
       "        vertical-align: top;\n",
       "    }\n",
       "\n",
       "    .dataframe thead th {\n",
       "        text-align: right;\n",
       "    }\n",
       "</style>\n",
       "<table border=\"1\" class=\"dataframe\">\n",
       "  <thead>\n",
       "    <tr style=\"text-align: right;\">\n",
       "      <th></th>\n",
       "      <th>id</th>\n",
       "      <th>host_id</th>\n",
       "      <th>latitude</th>\n",
       "      <th>longitude</th>\n",
       "      <th>price</th>\n",
       "      <th>minimum_nights</th>\n",
       "      <th>number_of_reviews</th>\n",
       "      <th>last_review</th>\n",
       "      <th>reviews_per_month</th>\n",
       "      <th>calculated_host_listings_count</th>\n",
       "      <th>availability_365</th>\n",
       "    </tr>\n",
       "  </thead>\n",
       "  <tbody>\n",
       "    <tr>\n",
       "      <th>count</th>\n",
       "      <td>4.889500e+04</td>\n",
       "      <td>4.889500e+04</td>\n",
       "      <td>48895.000000</td>\n",
       "      <td>48895.000000</td>\n",
       "      <td>48895.000000</td>\n",
       "      <td>48895.000000</td>\n",
       "      <td>48895.000000</td>\n",
       "      <td>48895</td>\n",
       "      <td>48895.000000</td>\n",
       "      <td>48895.000000</td>\n",
       "      <td>48895.000000</td>\n",
       "    </tr>\n",
       "    <tr>\n",
       "      <th>mean</th>\n",
       "      <td>1.901714e+07</td>\n",
       "      <td>6.762001e+07</td>\n",
       "      <td>40.728949</td>\n",
       "      <td>-73.952170</td>\n",
       "      <td>152.720687</td>\n",
       "      <td>7.029962</td>\n",
       "      <td>23.274466</td>\n",
       "      <td>2018-10-14 06:10:06.540546304</td>\n",
       "      <td>1.090910</td>\n",
       "      <td>7.143982</td>\n",
       "      <td>112.781327</td>\n",
       "    </tr>\n",
       "    <tr>\n",
       "      <th>min</th>\n",
       "      <td>2.539000e+03</td>\n",
       "      <td>2.438000e+03</td>\n",
       "      <td>40.499790</td>\n",
       "      <td>-74.244420</td>\n",
       "      <td>0.000000</td>\n",
       "      <td>1.000000</td>\n",
       "      <td>0.000000</td>\n",
       "      <td>2011-03-28 00:00:00</td>\n",
       "      <td>0.000000</td>\n",
       "      <td>1.000000</td>\n",
       "      <td>0.000000</td>\n",
       "    </tr>\n",
       "    <tr>\n",
       "      <th>25%</th>\n",
       "      <td>9.471945e+06</td>\n",
       "      <td>7.822033e+06</td>\n",
       "      <td>40.690100</td>\n",
       "      <td>-73.983070</td>\n",
       "      <td>69.000000</td>\n",
       "      <td>1.000000</td>\n",
       "      <td>1.000000</td>\n",
       "      <td>2018-07-31 00:00:00</td>\n",
       "      <td>0.040000</td>\n",
       "      <td>1.000000</td>\n",
       "      <td>0.000000</td>\n",
       "    </tr>\n",
       "    <tr>\n",
       "      <th>50%</th>\n",
       "      <td>1.967728e+07</td>\n",
       "      <td>3.079382e+07</td>\n",
       "      <td>40.723070</td>\n",
       "      <td>-73.955680</td>\n",
       "      <td>106.000000</td>\n",
       "      <td>3.000000</td>\n",
       "      <td>5.000000</td>\n",
       "      <td>2019-05-25 00:00:00</td>\n",
       "      <td>0.370000</td>\n",
       "      <td>1.000000</td>\n",
       "      <td>45.000000</td>\n",
       "    </tr>\n",
       "    <tr>\n",
       "      <th>75%</th>\n",
       "      <td>2.915218e+07</td>\n",
       "      <td>1.074344e+08</td>\n",
       "      <td>40.763115</td>\n",
       "      <td>-73.936275</td>\n",
       "      <td>175.000000</td>\n",
       "      <td>5.000000</td>\n",
       "      <td>24.000000</td>\n",
       "      <td>2019-06-24 00:00:00</td>\n",
       "      <td>1.580000</td>\n",
       "      <td>2.000000</td>\n",
       "      <td>227.000000</td>\n",
       "    </tr>\n",
       "    <tr>\n",
       "      <th>max</th>\n",
       "      <td>3.648724e+07</td>\n",
       "      <td>2.743213e+08</td>\n",
       "      <td>40.913060</td>\n",
       "      <td>-73.712990</td>\n",
       "      <td>10000.000000</td>\n",
       "      <td>1250.000000</td>\n",
       "      <td>629.000000</td>\n",
       "      <td>2019-07-08 00:00:00</td>\n",
       "      <td>58.500000</td>\n",
       "      <td>327.000000</td>\n",
       "      <td>365.000000</td>\n",
       "    </tr>\n",
       "    <tr>\n",
       "      <th>std</th>\n",
       "      <td>1.098311e+07</td>\n",
       "      <td>7.861097e+07</td>\n",
       "      <td>0.054530</td>\n",
       "      <td>0.046157</td>\n",
       "      <td>240.154170</td>\n",
       "      <td>20.510550</td>\n",
       "      <td>44.550582</td>\n",
       "      <td>NaN</td>\n",
       "      <td>1.597283</td>\n",
       "      <td>32.952519</td>\n",
       "      <td>131.622289</td>\n",
       "    </tr>\n",
       "  </tbody>\n",
       "</table>\n",
       "</div>"
      ],
      "text/plain": [
       "                 id       host_id      latitude     longitude         price  \\\n",
       "count  4.889500e+04  4.889500e+04  48895.000000  48895.000000  48895.000000   \n",
       "mean   1.901714e+07  6.762001e+07     40.728949    -73.952170    152.720687   \n",
       "min    2.539000e+03  2.438000e+03     40.499790    -74.244420      0.000000   \n",
       "25%    9.471945e+06  7.822033e+06     40.690100    -73.983070     69.000000   \n",
       "50%    1.967728e+07  3.079382e+07     40.723070    -73.955680    106.000000   \n",
       "75%    2.915218e+07  1.074344e+08     40.763115    -73.936275    175.000000   \n",
       "max    3.648724e+07  2.743213e+08     40.913060    -73.712990  10000.000000   \n",
       "std    1.098311e+07  7.861097e+07      0.054530      0.046157    240.154170   \n",
       "\n",
       "       minimum_nights  number_of_reviews                    last_review  \\\n",
       "count    48895.000000       48895.000000                          48895   \n",
       "mean         7.029962          23.274466  2018-10-14 06:10:06.540546304   \n",
       "min          1.000000           0.000000            2011-03-28 00:00:00   \n",
       "25%          1.000000           1.000000            2018-07-31 00:00:00   \n",
       "50%          3.000000           5.000000            2019-05-25 00:00:00   \n",
       "75%          5.000000          24.000000            2019-06-24 00:00:00   \n",
       "max       1250.000000         629.000000            2019-07-08 00:00:00   \n",
       "std         20.510550          44.550582                            NaN   \n",
       "\n",
       "       reviews_per_month  calculated_host_listings_count  availability_365  \n",
       "count       48895.000000                    48895.000000      48895.000000  \n",
       "mean            1.090910                        7.143982        112.781327  \n",
       "min             0.000000                        1.000000          0.000000  \n",
       "25%             0.040000                        1.000000          0.000000  \n",
       "50%             0.370000                        1.000000         45.000000  \n",
       "75%             1.580000                        2.000000        227.000000  \n",
       "max            58.500000                      327.000000        365.000000  \n",
       "std             1.597283                       32.952519        131.622289  "
      ]
     },
     "execution_count": 114,
     "metadata": {},
     "output_type": "execute_result"
    }
   ],
   "source": [
    "df.describe()"
   ]
  },
  {
   "cell_type": "code",
   "execution_count": 115,
   "id": "7b21dea6",
   "metadata": {},
   "outputs": [
    {
     "data": {
      "image/png": "[encoded data removed]",
      "text/plain": [
       "<Figure size 1000x1500 with 2 Axes>"
      ]
     },
     "metadata": {},
     "output_type": "display_data"
    },
    {
     "data": {
      "image/png": "[encoded data removed]",
      "text/plain": [
       "<Figure size 1000x1500 with 2 Axes>"
      ]
     },
     "metadata": {},
     "output_type": "display_data"
    },
    {
     "data": {
      "image/png": "[encoded data removed]",
      "text/plain": [
       "<Figure size 1000x1500 with 2 Axes>"
      ]
     },
     "metadata": {},
     "output_type": "display_data"
    },
    {
     "data": {
      "image/png": "[encoded data removed]",
      "text/plain": [
       "<Figure size 1000x1500 with 2 Axes>"
      ]
     },
     "metadata": {},
     "output_type": "display_data"
    },
    {
     "data": {
      "image/png": "[encoded data removed]",
      "text/plain": [
       "<Figure size 1000x1500 with 2 Axes>"
      ]
     },
     "metadata": {},
     "output_type": "display_data"
    }
   ],
   "source": [
    "plt.figure(figsize=(10,15))\n",
    "plt.subplot(5,2,1)\n",
    "sns.distplot(df['price'])\n",
    "\n",
    "plt.subplot(5,2,2)\n",
    "sns.boxplot(df['price'])\n",
    "\n",
    "plt.figure(figsize=(10,15))\n",
    "plt.subplot(5,2,3)\n",
    "sns.distplot(df['minimum_nights'])\n",
    "\n",
    "plt.subplot(5,2,4)\n",
    "sns.boxplot(df['minimum_nights'])\n",
    "\n",
    "plt.figure(figsize=(10,15))\n",
    "plt.subplot(5,2,5)\n",
    "sns.distplot(df['number_of_reviews'])\n",
    "\n",
    "plt.subplot(5,2,6)\n",
    "sns.boxplot(df['number_of_reviews'])\n",
    "\n",
    "plt.figure(figsize=(10,15))\n",
    "plt.subplot(5,2,7)\n",
    "sns.distplot(df['reviews_per_month'])\n",
    "\n",
    "plt.subplot(5,2,8)\n",
    "sns.boxplot(df['reviews_per_month'])\n",
    "\n",
    "plt.figure(figsize=(10,15))\n",
    "plt.subplot(5,2,9)\n",
    "sns.distplot(df['calculated_host_listings_count'])\n",
    "\n",
    "plt.subplot(5,2,10)\n",
    "sns.boxplot(df['calculated_host_listings_count'])\n",
    "\n",
    "plt.show()"
   ]
  },
  {
   "cell_type": "code",
   "execution_count": 87,
   "id": "0dd5e707",
   "metadata": {},
   "outputs": [],
   "source": [
    "# with the help of box plot we can see  price, minimum_nights, number_of_reviews, last_review, reviews_per_month, calculated_host_listings_count contain outliers"
   ]
  },
  {
   "cell_type": "markdown",
   "id": "933f4d9c",
   "metadata": {},
   "source": [
    "# Removing outliers with IQR method"
   ]
  },
  {
   "cell_type": "code",
   "execution_count": 88,
   "id": "a6c5a4d3",
   "metadata": {},
   "outputs": [],
   "source": [
    "new_df=df.copy()"
   ]
  },
  {
   "cell_type": "code",
   "execution_count": 89,
   "id": "1464b715",
   "metadata": {},
   "outputs": [],
   "source": [
    "# Now wee are using IQR approach to deal with outliers.\n",
    "# Q1= 25th percentile\n",
    "# Q3 = 75th percentile\n",
    "# IQR=Q3-Q1\n",
    "# where lower limit is Q1-1.5*IQR and upper limit is Q3+ 1.5* IQR "
   ]
  },
  {
   "cell_type": "code",
   "execution_count": 90,
   "id": "d7aeeb2b",
   "metadata": {},
   "outputs": [],
   "source": [
    "def range(data, variables):\n",
    "    Q1= data[variables].quantile(.25)\n",
    "    Q3= data[variables].quantile(.75)\n",
    "    IQR= Q3-Q1\n",
    "    lower_range= Q1 - 1.5*IQR\n",
    "    upper_range= Q3 + 1.5* IQR \n",
    "    \n",
    "    return lower_range, upper_range"
   ]
  },
  {
   "cell_type": "code",
   "execution_count": 91,
   "id": "2ba02e1f",
   "metadata": {},
   "outputs": [
    {
     "name": "stdout",
     "output_type": "stream",
     "text": [
      "lower_price: -90.0\n",
      "upper_price: 334.0\n"
     ]
    }
   ],
   "source": [
    "lower_price, upper_price=range(new_df, 'price')\n",
    "print(\"lower_price:\", lower_price)\n",
    "print(\"upper_price:\", upper_price)"
   ]
  },
  {
   "cell_type": "code",
   "execution_count": 92,
   "id": "ea2bf4df",
   "metadata": {},
   "outputs": [
    {
     "name": "stdout",
     "output_type": "stream",
     "text": [
      "lower_minimum_nights: -5.0\n",
      "upper_minimum_nights: 11.0\n"
     ]
    }
   ],
   "source": [
    "lower_minimum_nights, upper_minimum_nights=range(new_df, 'minimum_nights')\n",
    "print(\"lower_minimum_nights:\", lower_minimum_nights)\n",
    "print(\"upper_minimum_nights:\", upper_minimum_nights)"
   ]
  },
  {
   "cell_type": "code",
   "execution_count": 93,
   "id": "9ef318de",
   "metadata": {},
   "outputs": [
    {
     "name": "stdout",
     "output_type": "stream",
     "text": [
      "lower_number_of_reviews: -33.5\n",
      "upper_number_of_reviews: 58.5\n"
     ]
    }
   ],
   "source": [
    "lower_number_of_reviews, upper_number_of_reviews=range(new_df, 'number_of_reviews')\n",
    "print(\"lower_number_of_reviews:\", lower_number_of_reviews)\n",
    "print(\"upper_number_of_reviews:\", upper_number_of_reviews)"
   ]
  },
  {
   "cell_type": "code",
   "execution_count": 94,
   "id": "564c63e5",
   "metadata": {},
   "outputs": [
    {
     "name": "stdout",
     "output_type": "stream",
     "text": [
      "lower_reviews_per_month: -2.27\n",
      "upper_reviews_per_month: 3.89\n"
     ]
    }
   ],
   "source": [
    "lower_reviews_per_month, upper_reviews_per_month=range(new_df, 'reviews_per_month')\n",
    "print(\"lower_reviews_per_month:\", lower_reviews_per_month)\n",
    "print(\"upper_reviews_per_month:\", upper_reviews_per_month)"
   ]
  },
  {
   "cell_type": "code",
   "execution_count": 95,
   "id": "a0d783db",
   "metadata": {},
   "outputs": [
    {
     "name": "stdout",
     "output_type": "stream",
     "text": [
      "lower_calculated_host_listings_count: -0.5\n",
      "upper_calculated_host_listings_count: 3.5\n"
     ]
    }
   ],
   "source": [
    "lower_calculated_host_listings_count, upper_calculated_host_listings_count=range(new_df, 'calculated_host_listings_count')\n",
    "print(\"lower_calculated_host_listings_count:\", lower_calculated_host_listings_count)\n",
    "print(\"upper_calculated_host_listings_count:\", upper_calculated_host_listings_count)"
   ]
  },
  {
   "cell_type": "markdown",
   "id": "b57df38d",
   "metadata": {},
   "source": [
    "# Capping variable at upper and lower limit"
   ]
  },
  {
   "cell_type": "code",
   "execution_count": 96,
   "id": "a9e1f620",
   "metadata": {},
   "outputs": [],
   "source": [
    "new_df['price']=np.where(new_df['price']>upper_price,upper_price, np.where(new_df['price']<lower_price, lower_price, new_df['price']))"
   ]
  },
  {
   "cell_type": "code",
   "execution_count": 97,
   "id": "6522a651",
   "metadata": {},
   "outputs": [],
   "source": [
    "new_df['minimum_nights']=np.where(new_df['minimum_nights']>upper_minimum_nights,upper_minimum_nights, np.where(new_df['minimum_nights']<lower_minimum_nights, lower_minimum_nights, new_df['minimum_nights']))"
   ]
  },
  {
   "cell_type": "code",
   "execution_count": 98,
   "id": "749b117e",
   "metadata": {},
   "outputs": [],
   "source": [
    "new_df['number_of_reviews']=np.where(new_df['number_of_reviews']>upper_number_of_reviews,upper_number_of_reviews, np.where(new_df['number_of_reviews']<lower_number_of_reviews, lower_number_of_reviews, new_df['number_of_reviews']))"
   ]
  },
  {
   "cell_type": "code",
   "execution_count": 99,
   "id": "b0e93803",
   "metadata": {},
   "outputs": [],
   "source": [
    "new_df['reviews_per_month']=np.where(new_df['reviews_per_month']>upper_reviews_per_month,upper_reviews_per_month, np.where(new_df['reviews_per_month']<lower_reviews_per_month, lower_reviews_per_month, new_df['reviews_per_month']))"
   ]
  },
  {
   "cell_type": "code",
   "execution_count": 100,
   "id": "fd6bdc39",
   "metadata": {},
   "outputs": [],
   "source": [
    "new_df['calculated_host_listings_count']=np.where(new_df['calculated_host_listings_count']>upper_calculated_host_listings_count,upper_calculated_host_listings_count, np.where(new_df['calculated_host_listings_count']<lower_calculated_host_listings_count, lower_calculated_host_listings_count, new_df['calculated_host_listings_count']))"
   ]
  },
  {
   "cell_type": "code",
   "execution_count": 101,
   "id": "3af24bc2",
   "metadata": {},
   "outputs": [
    {
     "data": {
      "text/html": [
       "<div>\n",
       "<style scoped>\n",
       "    .dataframe tbody tr th:only-of-type {\n",
       "        vertical-align: middle;\n",
       "    }\n",
       "\n",
       "    .dataframe tbody tr th {\n",
       "        vertical-align: top;\n",
       "    }\n",
       "\n",
       "    .dataframe thead th {\n",
       "        text-align: right;\n",
       "    }\n",
       "</style>\n",
       "<table border=\"1\" class=\"dataframe\">\n",
       "  <thead>\n",
       "    <tr style=\"text-align: right;\">\n",
       "      <th></th>\n",
       "      <th>id</th>\n",
       "      <th>host_id</th>\n",
       "      <th>latitude</th>\n",
       "      <th>longitude</th>\n",
       "      <th>price</th>\n",
       "      <th>minimum_nights</th>\n",
       "      <th>number_of_reviews</th>\n",
       "      <th>last_review</th>\n",
       "      <th>reviews_per_month</th>\n",
       "      <th>calculated_host_listings_count</th>\n",
       "      <th>availability_365</th>\n",
       "    </tr>\n",
       "  </thead>\n",
       "  <tbody>\n",
       "    <tr>\n",
       "      <th>count</th>\n",
       "      <td>4.889500e+04</td>\n",
       "      <td>4.889500e+04</td>\n",
       "      <td>48895.000000</td>\n",
       "      <td>48895.000000</td>\n",
       "      <td>48895.000000</td>\n",
       "      <td>48895.00000</td>\n",
       "      <td>48895.00000</td>\n",
       "      <td>48895</td>\n",
       "      <td>48895.000000</td>\n",
       "      <td>48895.000000</td>\n",
       "      <td>48895.000000</td>\n",
       "    </tr>\n",
       "    <tr>\n",
       "      <th>mean</th>\n",
       "      <td>1.901714e+07</td>\n",
       "      <td>6.762001e+07</td>\n",
       "      <td>40.728949</td>\n",
       "      <td>-73.952170</td>\n",
       "      <td>132.979753</td>\n",
       "      <td>3.82532</td>\n",
       "      <td>15.67419</td>\n",
       "      <td>2018-10-14 06:10:06.540546304</td>\n",
       "      <td>0.986579</td>\n",
       "      <td>1.614920</td>\n",
       "      <td>112.781327</td>\n",
       "    </tr>\n",
       "    <tr>\n",
       "      <th>min</th>\n",
       "      <td>2.539000e+03</td>\n",
       "      <td>2.438000e+03</td>\n",
       "      <td>40.499790</td>\n",
       "      <td>-74.244420</td>\n",
       "      <td>0.000000</td>\n",
       "      <td>1.00000</td>\n",
       "      <td>0.00000</td>\n",
       "      <td>2011-03-28 00:00:00</td>\n",
       "      <td>0.000000</td>\n",
       "      <td>1.000000</td>\n",
       "      <td>0.000000</td>\n",
       "    </tr>\n",
       "    <tr>\n",
       "      <th>25%</th>\n",
       "      <td>9.471945e+06</td>\n",
       "      <td>7.822033e+06</td>\n",
       "      <td>40.690100</td>\n",
       "      <td>-73.983070</td>\n",
       "      <td>69.000000</td>\n",
       "      <td>1.00000</td>\n",
       "      <td>1.00000</td>\n",
       "      <td>2018-07-31 00:00:00</td>\n",
       "      <td>0.040000</td>\n",
       "      <td>1.000000</td>\n",
       "      <td>0.000000</td>\n",
       "    </tr>\n",
       "    <tr>\n",
       "      <th>50%</th>\n",
       "      <td>1.967728e+07</td>\n",
       "      <td>3.079382e+07</td>\n",
       "      <td>40.723070</td>\n",
       "      <td>-73.955680</td>\n",
       "      <td>106.000000</td>\n",
       "      <td>3.00000</td>\n",
       "      <td>5.00000</td>\n",
       "      <td>2019-05-25 00:00:00</td>\n",
       "      <td>0.370000</td>\n",
       "      <td>1.000000</td>\n",
       "      <td>45.000000</td>\n",
       "    </tr>\n",
       "    <tr>\n",
       "      <th>75%</th>\n",
       "      <td>2.915218e+07</td>\n",
       "      <td>1.074344e+08</td>\n",
       "      <td>40.763115</td>\n",
       "      <td>-73.936275</td>\n",
       "      <td>175.000000</td>\n",
       "      <td>5.00000</td>\n",
       "      <td>24.00000</td>\n",
       "      <td>2019-06-24 00:00:00</td>\n",
       "      <td>1.580000</td>\n",
       "      <td>2.000000</td>\n",
       "      <td>227.000000</td>\n",
       "    </tr>\n",
       "    <tr>\n",
       "      <th>max</th>\n",
       "      <td>3.648724e+07</td>\n",
       "      <td>2.743213e+08</td>\n",
       "      <td>40.913060</td>\n",
       "      <td>-73.712990</td>\n",
       "      <td>334.000000</td>\n",
       "      <td>11.00000</td>\n",
       "      <td>58.50000</td>\n",
       "      <td>2019-07-08 00:00:00</td>\n",
       "      <td>3.890000</td>\n",
       "      <td>3.500000</td>\n",
       "      <td>365.000000</td>\n",
       "    </tr>\n",
       "    <tr>\n",
       "      <th>std</th>\n",
       "      <td>1.098311e+07</td>\n",
       "      <td>7.861097e+07</td>\n",
       "      <td>0.054530</td>\n",
       "      <td>0.046157</td>\n",
       "      <td>83.530504</td>\n",
       "      <td>3.32072</td>\n",
       "      <td>20.34953</td>\n",
       "      <td>NaN</td>\n",
       "      <td>1.238206</td>\n",
       "      <td>0.946883</td>\n",
       "      <td>131.622289</td>\n",
       "    </tr>\n",
       "  </tbody>\n",
       "</table>\n",
       "</div>"
      ],
      "text/plain": [
       "                 id       host_id      latitude     longitude         price  \\\n",
       "count  4.889500e+04  4.889500e+04  48895.000000  48895.000000  48895.000000   \n",
       "mean   1.901714e+07  6.762001e+07     40.728949    -73.952170    132.979753   \n",
       "min    2.539000e+03  2.438000e+03     40.499790    -74.244420      0.000000   \n",
       "25%    9.471945e+06  7.822033e+06     40.690100    -73.983070     69.000000   \n",
       "50%    1.967728e+07  3.079382e+07     40.723070    -73.955680    106.000000   \n",
       "75%    2.915218e+07  1.074344e+08     40.763115    -73.936275    175.000000   \n",
       "max    3.648724e+07  2.743213e+08     40.913060    -73.712990    334.000000   \n",
       "std    1.098311e+07  7.861097e+07      0.054530      0.046157     83.530504   \n",
       "\n",
       "       minimum_nights  number_of_reviews                    last_review  \\\n",
       "count     48895.00000        48895.00000                          48895   \n",
       "mean          3.82532           15.67419  2018-10-14 06:10:06.540546304   \n",
       "min           1.00000            0.00000            2011-03-28 00:00:00   \n",
       "25%           1.00000            1.00000            2018-07-31 00:00:00   \n",
       "50%           3.00000            5.00000            2019-05-25 00:00:00   \n",
       "75%           5.00000           24.00000            2019-06-24 00:00:00   \n",
       "max          11.00000           58.50000            2019-07-08 00:00:00   \n",
       "std           3.32072           20.34953                            NaN   \n",
       "\n",
       "       reviews_per_month  calculated_host_listings_count  availability_365  \n",
       "count       48895.000000                    48895.000000      48895.000000  \n",
       "mean            0.986579                        1.614920        112.781327  \n",
       "min             0.000000                        1.000000          0.000000  \n",
       "25%             0.040000                        1.000000          0.000000  \n",
       "50%             0.370000                        1.000000         45.000000  \n",
       "75%             1.580000                        2.000000        227.000000  \n",
       "max             3.890000                        3.500000        365.000000  \n",
       "std             1.238206                        0.946883        131.622289  "
      ]
     },
     "execution_count": 101,
     "metadata": {},
     "output_type": "execute_result"
    }
   ],
   "source": [
    "new_df.describe()"
   ]
  },
  {
   "cell_type": "markdown",
   "id": "2473440b",
   "metadata": {
    "scrolled": false
   },
   "source": [
    "# Replacing those values which are zero with column mean"
   ]
  },
  {
   "cell_type": "code",
   "execution_count": 111,
   "id": "9c9b13a7",
   "metadata": {},
   "outputs": [],
   "source": [
    "#after checking the summary statistics of the dataset i found that the min value is zero which is not right so i am replacing the value with column mean.\n",
    "price_mean=new_df['price'].mean()\n",
    "new_df['price']=new_df['price'].replace(0, price_mean)"
   ]
  },
  {
   "cell_type": "code",
   "execution_count": 112,
   "id": "1b00e832",
   "metadata": {},
   "outputs": [],
   "source": [
    "# the same is with availability 365 column because the minimum value cannot be zero so i am replacing the value with the column mean \n",
    "availability_365_mean=new_df['availability_365'].mean()\n",
    "new_df['availability_365']=new_df['availability_365'].replace(0, availability_365_mean)"
   ]
  },
  {
   "cell_type": "code",
   "execution_count": 104,
   "id": "2284f940",
   "metadata": {},
   "outputs": [
    {
     "data": {
      "text/html": [
       "<div>\n",
       "<style scoped>\n",
       "    .dataframe tbody tr th:only-of-type {\n",
       "        vertical-align: middle;\n",
       "    }\n",
       "\n",
       "    .dataframe tbody tr th {\n",
       "        vertical-align: top;\n",
       "    }\n",
       "\n",
       "    .dataframe thead th {\n",
       "        text-align: right;\n",
       "    }\n",
       "</style>\n",
       "<table border=\"1\" class=\"dataframe\">\n",
       "  <thead>\n",
       "    <tr style=\"text-align: right;\">\n",
       "      <th></th>\n",
       "      <th>id</th>\n",
       "      <th>host_id</th>\n",
       "      <th>latitude</th>\n",
       "      <th>longitude</th>\n",
       "      <th>price</th>\n",
       "      <th>minimum_nights</th>\n",
       "      <th>number_of_reviews</th>\n",
       "      <th>last_review</th>\n",
       "      <th>reviews_per_month</th>\n",
       "      <th>calculated_host_listings_count</th>\n",
       "      <th>availability_365</th>\n",
       "    </tr>\n",
       "  </thead>\n",
       "  <tbody>\n",
       "    <tr>\n",
       "      <th>count</th>\n",
       "      <td>4.889500e+04</td>\n",
       "      <td>4.889500e+04</td>\n",
       "      <td>48895.000000</td>\n",
       "      <td>48895.000000</td>\n",
       "      <td>48895.000000</td>\n",
       "      <td>48895.00000</td>\n",
       "      <td>48895.00000</td>\n",
       "      <td>48895</td>\n",
       "      <td>48895.000000</td>\n",
       "      <td>48895.000000</td>\n",
       "      <td>48895.000000</td>\n",
       "    </tr>\n",
       "    <tr>\n",
       "      <th>mean</th>\n",
       "      <td>1.901714e+07</td>\n",
       "      <td>6.762001e+07</td>\n",
       "      <td>40.728949</td>\n",
       "      <td>-73.952170</td>\n",
       "      <td>133.009669</td>\n",
       "      <td>3.82532</td>\n",
       "      <td>15.67419</td>\n",
       "      <td>2018-10-14 06:10:06.540546304</td>\n",
       "      <td>0.986579</td>\n",
       "      <td>1.614920</td>\n",
       "      <td>153.222988</td>\n",
       "    </tr>\n",
       "    <tr>\n",
       "      <th>min</th>\n",
       "      <td>2.539000e+03</td>\n",
       "      <td>2.438000e+03</td>\n",
       "      <td>40.499790</td>\n",
       "      <td>-74.244420</td>\n",
       "      <td>10.000000</td>\n",
       "      <td>1.00000</td>\n",
       "      <td>0.00000</td>\n",
       "      <td>2011-03-28 00:00:00</td>\n",
       "      <td>0.000000</td>\n",
       "      <td>1.000000</td>\n",
       "      <td>1.000000</td>\n",
       "    </tr>\n",
       "    <tr>\n",
       "      <th>25%</th>\n",
       "      <td>9.471945e+06</td>\n",
       "      <td>7.822033e+06</td>\n",
       "      <td>40.690100</td>\n",
       "      <td>-73.983070</td>\n",
       "      <td>69.000000</td>\n",
       "      <td>1.00000</td>\n",
       "      <td>1.00000</td>\n",
       "      <td>2018-07-31 00:00:00</td>\n",
       "      <td>0.040000</td>\n",
       "      <td>1.000000</td>\n",
       "      <td>100.000000</td>\n",
       "    </tr>\n",
       "    <tr>\n",
       "      <th>50%</th>\n",
       "      <td>1.967728e+07</td>\n",
       "      <td>3.079382e+07</td>\n",
       "      <td>40.723070</td>\n",
       "      <td>-73.955680</td>\n",
       "      <td>106.000000</td>\n",
       "      <td>3.00000</td>\n",
       "      <td>5.00000</td>\n",
       "      <td>2019-05-25 00:00:00</td>\n",
       "      <td>0.370000</td>\n",
       "      <td>1.000000</td>\n",
       "      <td>112.781327</td>\n",
       "    </tr>\n",
       "    <tr>\n",
       "      <th>75%</th>\n",
       "      <td>2.915218e+07</td>\n",
       "      <td>1.074344e+08</td>\n",
       "      <td>40.763115</td>\n",
       "      <td>-73.936275</td>\n",
       "      <td>175.000000</td>\n",
       "      <td>5.00000</td>\n",
       "      <td>24.00000</td>\n",
       "      <td>2019-06-24 00:00:00</td>\n",
       "      <td>1.580000</td>\n",
       "      <td>2.000000</td>\n",
       "      <td>227.000000</td>\n",
       "    </tr>\n",
       "    <tr>\n",
       "      <th>max</th>\n",
       "      <td>3.648724e+07</td>\n",
       "      <td>2.743213e+08</td>\n",
       "      <td>40.913060</td>\n",
       "      <td>-73.712990</td>\n",
       "      <td>334.000000</td>\n",
       "      <td>11.00000</td>\n",
       "      <td>58.50000</td>\n",
       "      <td>2019-07-08 00:00:00</td>\n",
       "      <td>3.890000</td>\n",
       "      <td>3.500000</td>\n",
       "      <td>365.000000</td>\n",
       "    </tr>\n",
       "    <tr>\n",
       "      <th>std</th>\n",
       "      <td>1.098311e+07</td>\n",
       "      <td>7.861097e+07</td>\n",
       "      <td>0.054530</td>\n",
       "      <td>0.046157</td>\n",
       "      <td>83.506681</td>\n",
       "      <td>3.32072</td>\n",
       "      <td>20.34953</td>\n",
       "      <td>NaN</td>\n",
       "      <td>1.238206</td>\n",
       "      <td>0.946883</td>\n",
       "      <td>105.487952</td>\n",
       "    </tr>\n",
       "  </tbody>\n",
       "</table>\n",
       "</div>"
      ],
      "text/plain": [
       "                 id       host_id      latitude     longitude         price  \\\n",
       "count  4.889500e+04  4.889500e+04  48895.000000  48895.000000  48895.000000   \n",
       "mean   1.901714e+07  6.762001e+07     40.728949    -73.952170    133.009669   \n",
       "min    2.539000e+03  2.438000e+03     40.499790    -74.244420     10.000000   \n",
       "25%    9.471945e+06  7.822033e+06     40.690100    -73.983070     69.000000   \n",
       "50%    1.967728e+07  3.079382e+07     40.723070    -73.955680    106.000000   \n",
       "75%    2.915218e+07  1.074344e+08     40.763115    -73.936275    175.000000   \n",
       "max    3.648724e+07  2.743213e+08     40.913060    -73.712990    334.000000   \n",
       "std    1.098311e+07  7.861097e+07      0.054530      0.046157     83.506681   \n",
       "\n",
       "       minimum_nights  number_of_reviews                    last_review  \\\n",
       "count     48895.00000        48895.00000                          48895   \n",
       "mean          3.82532           15.67419  2018-10-14 06:10:06.540546304   \n",
       "min           1.00000            0.00000            2011-03-28 00:00:00   \n",
       "25%           1.00000            1.00000            2018-07-31 00:00:00   \n",
       "50%           3.00000            5.00000            2019-05-25 00:00:00   \n",
       "75%           5.00000           24.00000            2019-06-24 00:00:00   \n",
       "max          11.00000           58.50000            2019-07-08 00:00:00   \n",
       "std           3.32072           20.34953                            NaN   \n",
       "\n",
       "       reviews_per_month  calculated_host_listings_count  availability_365  \n",
       "count       48895.000000                    48895.000000      48895.000000  \n",
       "mean            0.986579                        1.614920        153.222988  \n",
       "min             0.000000                        1.000000          1.000000  \n",
       "25%             0.040000                        1.000000        100.000000  \n",
       "50%             0.370000                        1.000000        112.781327  \n",
       "75%             1.580000                        2.000000        227.000000  \n",
       "max             3.890000                        3.500000        365.000000  \n",
       "std             1.238206                        0.946883        105.487952  "
      ]
     },
     "execution_count": 104,
     "metadata": {},
     "output_type": "execute_result"
    }
   ],
   "source": [
    "new_df.describe()"
   ]
  },
  {
   "cell_type": "markdown",
   "id": "2759b380",
   "metadata": {},
   "source": [
    "# Plotting distplot and boxplot before and after removing outliers for price and minimum nights"
   ]
  },
  {
   "cell_type": "code",
   "execution_count": 105,
   "id": "1a863810",
   "metadata": {},
   "outputs": [
    {
     "data": {
      "image/png": "[encoded data removed]",
      "text/plain": [
       "<Figure size 1000x700 with 2 Axes>"
      ]
     },
     "metadata": {},
     "output_type": "display_data"
    },
    {
     "data": {
      "image/png": "[encoded data removed]",
      "text/plain": [
       "<Figure size 1000x700 with 2 Axes>"
      ]
     },
     "metadata": {},
     "output_type": "display_data"
    },
    {
     "name": "stdout",
     "output_type": "stream",
     "text": [
      "Price skewness before removing outlier : 19.118938995046033\n",
      "Price skewness after removing outlier: 1.023479639367661\n"
     ]
    }
   ],
   "source": [
    "plt.figure(figsize=(10,7))\n",
    "plt.subplot(2,2,1)\n",
    "sns.distplot(df['price'])\n",
    "\n",
    "plt.subplot(2,2,2)\n",
    "sns.boxplot(df['price'])\n",
    "\n",
    "plt.figure(figsize=(10,7))\n",
    "plt.subplot(2,2,3)\n",
    "sns.distplot(new_df['price'])\n",
    "\n",
    "plt.subplot(2,2,4)\n",
    "sns.boxplot(new_df['price'])\n",
    "\n",
    "plt.show()\n",
    "print('Price skewness before removing outlier :',df['price'].skew())\n",
    "print('Price skewness after removing outlier:',new_df['price'].skew())"
   ]
  },
  {
   "cell_type": "code",
   "execution_count": 116,
   "id": "c09091aa",
   "metadata": {},
   "outputs": [
    {
     "data": {
      "image/png": "[encoded data removed]",
      "text/plain": [
       "<Figure size 1000x700 with 2 Axes>"
      ]
     },
     "metadata": {},
     "output_type": "display_data"
    },
    {
     "data": {
      "image/png": "[encoded data removed]",
      "text/plain": [
       "<Figure size 1000x700 with 2 Axes>"
      ]
     },
     "metadata": {},
     "output_type": "display_data"
    },
    {
     "name": "stdout",
     "output_type": "stream",
     "text": [
      "Minimum_nights skewness before removing outlier : 21.827274529642168\n",
      "Minimum_nights skewness after removing outlier : 1.2861165892722501\n"
     ]
    }
   ],
   "source": [
    "plt.figure(figsize=(10,7))\n",
    "plt.subplot(2,2,1)\n",
    "sns.distplot(df['minimum_nights'])\n",
    "\n",
    "plt.subplot(2,2,2)\n",
    "sns.boxplot(df['minimum_nights'])\n",
    "\n",
    "plt.figure(figsize=(10,7))\n",
    "plt.subplot(2,2,3)\n",
    "sns.distplot(new_df['minimum_nights'])\n",
    "\n",
    "plt.subplot(2,2,4)\n",
    "sns.boxplot(new_df['minimum_nights'])\n",
    "\n",
    "plt.show()\n",
    "\n",
    "print('Minimum_nights skewness before removing outlier :',df['minimum_nights'].skew())\n",
    "print('Minimum_nights skewness after removing outlier :',new_df['minimum_nights'].skew())"
   ]
  },
  {
   "cell_type": "code",
   "execution_count": 117,
   "id": "57443631",
   "metadata": {},
   "outputs": [],
   "source": [
    "# As we can see from the above plot we have outlier free data"
   ]
  },
  {
   "cell_type": "code",
   "execution_count": 108,
   "id": "9b2307ba",
   "metadata": {},
   "outputs": [
    {
     "data": {
      "text/html": [
       "<div>\n",
       "<style scoped>\n",
       "    .dataframe tbody tr th:only-of-type {\n",
       "        vertical-align: middle;\n",
       "    }\n",
       "\n",
       "    .dataframe tbody tr th {\n",
       "        vertical-align: top;\n",
       "    }\n",
       "\n",
       "    .dataframe thead th {\n",
       "        text-align: right;\n",
       "    }\n",
       "</style>\n",
       "<table border=\"1\" class=\"dataframe\">\n",
       "  <thead>\n",
       "    <tr style=\"text-align: right;\">\n",
       "      <th></th>\n",
       "      <th>id</th>\n",
       "      <th>name</th>\n",
       "      <th>host_id</th>\n",
       "      <th>host_name</th>\n",
       "      <th>neighbourhood_group</th>\n",
       "      <th>neighbourhood</th>\n",
       "      <th>latitude</th>\n",
       "      <th>longitude</th>\n",
       "      <th>room_type</th>\n",
       "      <th>price</th>\n",
       "      <th>minimum_nights</th>\n",
       "      <th>number_of_reviews</th>\n",
       "      <th>last_review</th>\n",
       "      <th>reviews_per_month</th>\n",
       "      <th>calculated_host_listings_count</th>\n",
       "      <th>availability_365</th>\n",
       "    </tr>\n",
       "  </thead>\n",
       "  <tbody>\n",
       "    <tr>\n",
       "      <th>0</th>\n",
       "      <td>2539</td>\n",
       "      <td>Clean &amp; quiet apt home by the park</td>\n",
       "      <td>2787</td>\n",
       "      <td>John</td>\n",
       "      <td>Brooklyn</td>\n",
       "      <td>Kensington</td>\n",
       "      <td>40.64749</td>\n",
       "      <td>-73.97237</td>\n",
       "      <td>Private room</td>\n",
       "      <td>149.0</td>\n",
       "      <td>1.0</td>\n",
       "      <td>9.0</td>\n",
       "      <td>2018-10-19</td>\n",
       "      <td>0.21</td>\n",
       "      <td>3.5</td>\n",
       "      <td>365.000000</td>\n",
       "    </tr>\n",
       "    <tr>\n",
       "      <th>1</th>\n",
       "      <td>2595</td>\n",
       "      <td>Skylit Midtown Castle</td>\n",
       "      <td>2845</td>\n",
       "      <td>Jennifer</td>\n",
       "      <td>Manhattan</td>\n",
       "      <td>Midtown</td>\n",
       "      <td>40.75362</td>\n",
       "      <td>-73.98377</td>\n",
       "      <td>Entire home/apt</td>\n",
       "      <td>225.0</td>\n",
       "      <td>1.0</td>\n",
       "      <td>45.0</td>\n",
       "      <td>2019-05-21</td>\n",
       "      <td>0.38</td>\n",
       "      <td>2.0</td>\n",
       "      <td>355.000000</td>\n",
       "    </tr>\n",
       "    <tr>\n",
       "      <th>2</th>\n",
       "      <td>3647</td>\n",
       "      <td>THE VILLAGE OF HARLEM....NEW YORK !</td>\n",
       "      <td>4632</td>\n",
       "      <td>Elisabeth</td>\n",
       "      <td>Manhattan</td>\n",
       "      <td>Harlem</td>\n",
       "      <td>40.80902</td>\n",
       "      <td>-73.94190</td>\n",
       "      <td>Private room</td>\n",
       "      <td>150.0</td>\n",
       "      <td>3.0</td>\n",
       "      <td>0.0</td>\n",
       "      <td>2019-05-21</td>\n",
       "      <td>0.00</td>\n",
       "      <td>1.0</td>\n",
       "      <td>365.000000</td>\n",
       "    </tr>\n",
       "    <tr>\n",
       "      <th>3</th>\n",
       "      <td>3831</td>\n",
       "      <td>Cozy Entire Floor of Brownstone</td>\n",
       "      <td>4869</td>\n",
       "      <td>LisaRoxanne</td>\n",
       "      <td>Brooklyn</td>\n",
       "      <td>Clinton Hill</td>\n",
       "      <td>40.68514</td>\n",
       "      <td>-73.95976</td>\n",
       "      <td>Entire home/apt</td>\n",
       "      <td>89.0</td>\n",
       "      <td>1.0</td>\n",
       "      <td>58.5</td>\n",
       "      <td>2019-07-05</td>\n",
       "      <td>3.89</td>\n",
       "      <td>1.0</td>\n",
       "      <td>194.000000</td>\n",
       "    </tr>\n",
       "    <tr>\n",
       "      <th>4</th>\n",
       "      <td>5022</td>\n",
       "      <td>Entire Apt: Spacious Studio/Loft by central park</td>\n",
       "      <td>7192</td>\n",
       "      <td>Laura</td>\n",
       "      <td>Manhattan</td>\n",
       "      <td>East Harlem</td>\n",
       "      <td>40.79851</td>\n",
       "      <td>-73.94399</td>\n",
       "      <td>Entire home/apt</td>\n",
       "      <td>80.0</td>\n",
       "      <td>10.0</td>\n",
       "      <td>9.0</td>\n",
       "      <td>2018-11-19</td>\n",
       "      <td>0.10</td>\n",
       "      <td>1.0</td>\n",
       "      <td>112.781327</td>\n",
       "    </tr>\n",
       "    <tr>\n",
       "      <th>...</th>\n",
       "      <td>...</td>\n",
       "      <td>...</td>\n",
       "      <td>...</td>\n",
       "      <td>...</td>\n",
       "      <td>...</td>\n",
       "      <td>...</td>\n",
       "      <td>...</td>\n",
       "      <td>...</td>\n",
       "      <td>...</td>\n",
       "      <td>...</td>\n",
       "      <td>...</td>\n",
       "      <td>...</td>\n",
       "      <td>...</td>\n",
       "      <td>...</td>\n",
       "      <td>...</td>\n",
       "      <td>...</td>\n",
       "    </tr>\n",
       "    <tr>\n",
       "      <th>48890</th>\n",
       "      <td>36484665</td>\n",
       "      <td>Charming one bedroom - newly renovated rowhouse</td>\n",
       "      <td>8232441</td>\n",
       "      <td>Sabrina</td>\n",
       "      <td>Brooklyn</td>\n",
       "      <td>Bedford-Stuyvesant</td>\n",
       "      <td>40.67853</td>\n",
       "      <td>-73.94995</td>\n",
       "      <td>Private room</td>\n",
       "      <td>70.0</td>\n",
       "      <td>2.0</td>\n",
       "      <td>0.0</td>\n",
       "      <td>2019-07-08</td>\n",
       "      <td>0.00</td>\n",
       "      <td>2.0</td>\n",
       "      <td>9.000000</td>\n",
       "    </tr>\n",
       "    <tr>\n",
       "      <th>48891</th>\n",
       "      <td>36485057</td>\n",
       "      <td>Affordable room in Bushwick/East Williamsburg</td>\n",
       "      <td>6570630</td>\n",
       "      <td>Marisol</td>\n",
       "      <td>Brooklyn</td>\n",
       "      <td>Bushwick</td>\n",
       "      <td>40.70184</td>\n",
       "      <td>-73.93317</td>\n",
       "      <td>Private room</td>\n",
       "      <td>40.0</td>\n",
       "      <td>4.0</td>\n",
       "      <td>0.0</td>\n",
       "      <td>2019-07-08</td>\n",
       "      <td>0.00</td>\n",
       "      <td>2.0</td>\n",
       "      <td>36.000000</td>\n",
       "    </tr>\n",
       "    <tr>\n",
       "      <th>48892</th>\n",
       "      <td>36485431</td>\n",
       "      <td>Sunny Studio at Historical Neighborhood</td>\n",
       "      <td>23492952</td>\n",
       "      <td>Ilgar &amp; Aysel</td>\n",
       "      <td>Manhattan</td>\n",
       "      <td>Harlem</td>\n",
       "      <td>40.81475</td>\n",
       "      <td>-73.94867</td>\n",
       "      <td>Entire home/apt</td>\n",
       "      <td>115.0</td>\n",
       "      <td>10.0</td>\n",
       "      <td>0.0</td>\n",
       "      <td>2019-07-08</td>\n",
       "      <td>0.00</td>\n",
       "      <td>1.0</td>\n",
       "      <td>27.000000</td>\n",
       "    </tr>\n",
       "    <tr>\n",
       "      <th>48893</th>\n",
       "      <td>36485609</td>\n",
       "      <td>43rd St. Time Square-cozy single bed</td>\n",
       "      <td>30985759</td>\n",
       "      <td>Taz</td>\n",
       "      <td>Manhattan</td>\n",
       "      <td>Hell's Kitchen</td>\n",
       "      <td>40.75751</td>\n",
       "      <td>-73.99112</td>\n",
       "      <td>Shared room</td>\n",
       "      <td>55.0</td>\n",
       "      <td>1.0</td>\n",
       "      <td>0.0</td>\n",
       "      <td>2019-07-08</td>\n",
       "      <td>0.00</td>\n",
       "      <td>3.5</td>\n",
       "      <td>2.000000</td>\n",
       "    </tr>\n",
       "    <tr>\n",
       "      <th>48894</th>\n",
       "      <td>36487245</td>\n",
       "      <td>Trendy duplex in the very heart of Hell's Kitchen</td>\n",
       "      <td>68119814</td>\n",
       "      <td>Christophe</td>\n",
       "      <td>Manhattan</td>\n",
       "      <td>Hell's Kitchen</td>\n",
       "      <td>40.76404</td>\n",
       "      <td>-73.98933</td>\n",
       "      <td>Private room</td>\n",
       "      <td>90.0</td>\n",
       "      <td>7.0</td>\n",
       "      <td>0.0</td>\n",
       "      <td>2019-07-08</td>\n",
       "      <td>0.00</td>\n",
       "      <td>1.0</td>\n",
       "      <td>23.000000</td>\n",
       "    </tr>\n",
       "  </tbody>\n",
       "</table>\n",
       "<p>48895 rows × 16 columns</p>\n",
       "</div>"
      ],
      "text/plain": [
       "             id                                               name   host_id  \\\n",
       "0          2539                 Clean & quiet apt home by the park      2787   \n",
       "1          2595                              Skylit Midtown Castle      2845   \n",
       "2          3647                THE VILLAGE OF HARLEM....NEW YORK !      4632   \n",
       "3          3831                    Cozy Entire Floor of Brownstone      4869   \n",
       "4          5022   Entire Apt: Spacious Studio/Loft by central park      7192   \n",
       "...         ...                                                ...       ...   \n",
       "48890  36484665    Charming one bedroom - newly renovated rowhouse   8232441   \n",
       "48891  36485057      Affordable room in Bushwick/East Williamsburg   6570630   \n",
       "48892  36485431            Sunny Studio at Historical Neighborhood  23492952   \n",
       "48893  36485609               43rd St. Time Square-cozy single bed  30985759   \n",
       "48894  36487245  Trendy duplex in the very heart of Hell's Kitchen  68119814   \n",
       "\n",
       "           host_name neighbourhood_group       neighbourhood  latitude  \\\n",
       "0               John            Brooklyn          Kensington  40.64749   \n",
       "1           Jennifer           Manhattan             Midtown  40.75362   \n",
       "2          Elisabeth           Manhattan              Harlem  40.80902   \n",
       "3        LisaRoxanne            Brooklyn        Clinton Hill  40.68514   \n",
       "4              Laura           Manhattan         East Harlem  40.79851   \n",
       "...              ...                 ...                 ...       ...   \n",
       "48890        Sabrina            Brooklyn  Bedford-Stuyvesant  40.67853   \n",
       "48891        Marisol            Brooklyn            Bushwick  40.70184   \n",
       "48892  Ilgar & Aysel           Manhattan              Harlem  40.81475   \n",
       "48893            Taz           Manhattan      Hell's Kitchen  40.75751   \n",
       "48894     Christophe           Manhattan      Hell's Kitchen  40.76404   \n",
       "\n",
       "       longitude        room_type  price  minimum_nights  number_of_reviews  \\\n",
       "0      -73.97237     Private room  149.0             1.0                9.0   \n",
       "1      -73.98377  Entire home/apt  225.0             1.0               45.0   \n",
       "2      -73.94190     Private room  150.0             3.0                0.0   \n",
       "3      -73.95976  Entire home/apt   89.0             1.0               58.5   \n",
       "4      -73.94399  Entire home/apt   80.0            10.0                9.0   \n",
       "...          ...              ...    ...             ...                ...   \n",
       "48890  -73.94995     Private room   70.0             2.0                0.0   \n",
       "48891  -73.93317     Private room   40.0             4.0                0.0   \n",
       "48892  -73.94867  Entire home/apt  115.0            10.0                0.0   \n",
       "48893  -73.99112      Shared room   55.0             1.0                0.0   \n",
       "48894  -73.98933     Private room   90.0             7.0                0.0   \n",
       "\n",
       "      last_review  reviews_per_month  calculated_host_listings_count  \\\n",
       "0      2018-10-19               0.21                             3.5   \n",
       "1      2019-05-21               0.38                             2.0   \n",
       "2      2019-05-21               0.00                             1.0   \n",
       "3      2019-07-05               3.89                             1.0   \n",
       "4      2018-11-19               0.10                             1.0   \n",
       "...           ...                ...                             ...   \n",
       "48890  2019-07-08               0.00                             2.0   \n",
       "48891  2019-07-08               0.00                             2.0   \n",
       "48892  2019-07-08               0.00                             1.0   \n",
       "48893  2019-07-08               0.00                             3.5   \n",
       "48894  2019-07-08               0.00                             1.0   \n",
       "\n",
       "       availability_365  \n",
       "0            365.000000  \n",
       "1            355.000000  \n",
       "2            365.000000  \n",
       "3            194.000000  \n",
       "4            112.781327  \n",
       "...                 ...  \n",
       "48890          9.000000  \n",
       "48891         36.000000  \n",
       "48892         27.000000  \n",
       "48893          2.000000  \n",
       "48894         23.000000  \n",
       "\n",
       "[48895 rows x 16 columns]"
      ]
     },
     "execution_count": 108,
     "metadata": {},
     "output_type": "execute_result"
    }
   ],
   "source": [
    "new_df"
   ]
  },
  {
   "cell_type": "code",
   "execution_count": 109,
   "id": "e2fbe5d5",
   "metadata": {},
   "outputs": [
    {
     "data": {
      "text/html": [
       "<div>\n",
       "<style scoped>\n",
       "    .dataframe tbody tr th:only-of-type {\n",
       "        vertical-align: middle;\n",
       "    }\n",
       "\n",
       "    .dataframe tbody tr th {\n",
       "        vertical-align: top;\n",
       "    }\n",
       "\n",
       "    .dataframe thead th {\n",
       "        text-align: right;\n",
       "    }\n",
       "</style>\n",
       "<table border=\"1\" class=\"dataframe\">\n",
       "  <thead>\n",
       "    <tr style=\"text-align: right;\">\n",
       "      <th></th>\n",
       "      <th>id</th>\n",
       "      <th>host_id</th>\n",
       "      <th>latitude</th>\n",
       "      <th>longitude</th>\n",
       "      <th>price</th>\n",
       "      <th>minimum_nights</th>\n",
       "      <th>number_of_reviews</th>\n",
       "      <th>last_review</th>\n",
       "      <th>reviews_per_month</th>\n",
       "      <th>calculated_host_listings_count</th>\n",
       "      <th>availability_365</th>\n",
       "    </tr>\n",
       "  </thead>\n",
       "  <tbody>\n",
       "    <tr>\n",
       "      <th>count</th>\n",
       "      <td>4.889500e+04</td>\n",
       "      <td>4.889500e+04</td>\n",
       "      <td>48895.000000</td>\n",
       "      <td>48895.000000</td>\n",
       "      <td>48895.000000</td>\n",
       "      <td>48895.00000</td>\n",
       "      <td>48895.00000</td>\n",
       "      <td>48895</td>\n",
       "      <td>48895.000000</td>\n",
       "      <td>48895.000000</td>\n",
       "      <td>48895.000000</td>\n",
       "    </tr>\n",
       "    <tr>\n",
       "      <th>mean</th>\n",
       "      <td>1.901714e+07</td>\n",
       "      <td>6.762001e+07</td>\n",
       "      <td>40.728949</td>\n",
       "      <td>-73.952170</td>\n",
       "      <td>133.009669</td>\n",
       "      <td>3.82532</td>\n",
       "      <td>15.67419</td>\n",
       "      <td>2018-10-14 06:10:06.540546304</td>\n",
       "      <td>0.986579</td>\n",
       "      <td>1.614920</td>\n",
       "      <td>153.222988</td>\n",
       "    </tr>\n",
       "    <tr>\n",
       "      <th>min</th>\n",
       "      <td>2.539000e+03</td>\n",
       "      <td>2.438000e+03</td>\n",
       "      <td>40.499790</td>\n",
       "      <td>-74.244420</td>\n",
       "      <td>10.000000</td>\n",
       "      <td>1.00000</td>\n",
       "      <td>0.00000</td>\n",
       "      <td>2011-03-28 00:00:00</td>\n",
       "      <td>0.000000</td>\n",
       "      <td>1.000000</td>\n",
       "      <td>1.000000</td>\n",
       "    </tr>\n",
       "    <tr>\n",
       "      <th>25%</th>\n",
       "      <td>9.471945e+06</td>\n",
       "      <td>7.822033e+06</td>\n",
       "      <td>40.690100</td>\n",
       "      <td>-73.983070</td>\n",
       "      <td>69.000000</td>\n",
       "      <td>1.00000</td>\n",
       "      <td>1.00000</td>\n",
       "      <td>2018-07-31 00:00:00</td>\n",
       "      <td>0.040000</td>\n",
       "      <td>1.000000</td>\n",
       "      <td>100.000000</td>\n",
       "    </tr>\n",
       "    <tr>\n",
       "      <th>50%</th>\n",
       "      <td>1.967728e+07</td>\n",
       "      <td>3.079382e+07</td>\n",
       "      <td>40.723070</td>\n",
       "      <td>-73.955680</td>\n",
       "      <td>106.000000</td>\n",
       "      <td>3.00000</td>\n",
       "      <td>5.00000</td>\n",
       "      <td>2019-05-25 00:00:00</td>\n",
       "      <td>0.370000</td>\n",
       "      <td>1.000000</td>\n",
       "      <td>112.781327</td>\n",
       "    </tr>\n",
       "    <tr>\n",
       "      <th>75%</th>\n",
       "      <td>2.915218e+07</td>\n",
       "      <td>1.074344e+08</td>\n",
       "      <td>40.763115</td>\n",
       "      <td>-73.936275</td>\n",
       "      <td>175.000000</td>\n",
       "      <td>5.00000</td>\n",
       "      <td>24.00000</td>\n",
       "      <td>2019-06-24 00:00:00</td>\n",
       "      <td>1.580000</td>\n",
       "      <td>2.000000</td>\n",
       "      <td>227.000000</td>\n",
       "    </tr>\n",
       "    <tr>\n",
       "      <th>max</th>\n",
       "      <td>3.648724e+07</td>\n",
       "      <td>2.743213e+08</td>\n",
       "      <td>40.913060</td>\n",
       "      <td>-73.712990</td>\n",
       "      <td>334.000000</td>\n",
       "      <td>11.00000</td>\n",
       "      <td>58.50000</td>\n",
       "      <td>2019-07-08 00:00:00</td>\n",
       "      <td>3.890000</td>\n",
       "      <td>3.500000</td>\n",
       "      <td>365.000000</td>\n",
       "    </tr>\n",
       "    <tr>\n",
       "      <th>std</th>\n",
       "      <td>1.098311e+07</td>\n",
       "      <td>7.861097e+07</td>\n",
       "      <td>0.054530</td>\n",
       "      <td>0.046157</td>\n",
       "      <td>83.506681</td>\n",
       "      <td>3.32072</td>\n",
       "      <td>20.34953</td>\n",
       "      <td>NaN</td>\n",
       "      <td>1.238206</td>\n",
       "      <td>0.946883</td>\n",
       "      <td>105.487952</td>\n",
       "    </tr>\n",
       "  </tbody>\n",
       "</table>\n",
       "</div>"
      ],
      "text/plain": [
       "                 id       host_id      latitude     longitude         price  \\\n",
       "count  4.889500e+04  4.889500e+04  48895.000000  48895.000000  48895.000000   \n",
       "mean   1.901714e+07  6.762001e+07     40.728949    -73.952170    133.009669   \n",
       "min    2.539000e+03  2.438000e+03     40.499790    -74.244420     10.000000   \n",
       "25%    9.471945e+06  7.822033e+06     40.690100    -73.983070     69.000000   \n",
       "50%    1.967728e+07  3.079382e+07     40.723070    -73.955680    106.000000   \n",
       "75%    2.915218e+07  1.074344e+08     40.763115    -73.936275    175.000000   \n",
       "max    3.648724e+07  2.743213e+08     40.913060    -73.712990    334.000000   \n",
       "std    1.098311e+07  7.861097e+07      0.054530      0.046157     83.506681   \n",
       "\n",
       "       minimum_nights  number_of_reviews                    last_review  \\\n",
       "count     48895.00000        48895.00000                          48895   \n",
       "mean          3.82532           15.67419  2018-10-14 06:10:06.540546304   \n",
       "min           1.00000            0.00000            2011-03-28 00:00:00   \n",
       "25%           1.00000            1.00000            2018-07-31 00:00:00   \n",
       "50%           3.00000            5.00000            2019-05-25 00:00:00   \n",
       "75%           5.00000           24.00000            2019-06-24 00:00:00   \n",
       "max          11.00000           58.50000            2019-07-08 00:00:00   \n",
       "std           3.32072           20.34953                            NaN   \n",
       "\n",
       "       reviews_per_month  calculated_host_listings_count  availability_365  \n",
       "count       48895.000000                    48895.000000      48895.000000  \n",
       "mean            0.986579                        1.614920        153.222988  \n",
       "min             0.000000                        1.000000          1.000000  \n",
       "25%             0.040000                        1.000000        100.000000  \n",
       "50%             0.370000                        1.000000        112.781327  \n",
       "75%             1.580000                        2.000000        227.000000  \n",
       "max             3.890000                        3.500000        365.000000  \n",
       "std             1.238206                        0.946883        105.487952  "
      ]
     },
     "execution_count": 109,
     "metadata": {},
     "output_type": "execute_result"
    }
   ],
   "source": [
    "new_df.describe()"
   ]
  },
  {
   "cell_type": "markdown",
   "id": "82dfad80",
   "metadata": {},
   "source": [
    "# Data Cleaning steps\n",
    "\n",
    "1. Importing important Libraries.\n",
    "2. Loading Dataset.\n",
    "3. Data exploration and Missing Data Handling: Dealing with missing values by either imputing them or making informed decisions on how to handle gaps in the dataset..\n",
    "* Checking and fixing data types, Looking for null and duplicates values.\n",
    "* Columns which contain missing text data like 'name' and 'hostname' was replaced with the mode of the name/hostname on the basis of their neighbourhood_group and neighbourhood.\n",
    "* Replacing the null values on 'reviews_per_month' with zero and using ffill on datetime column 'last_review' to fill the null values.\n",
    "4. Standardization: Consistent formatting and units across the dataset for accurate analysis.\n",
    "5. Outlier Detection: Identifying and addressing outliers that may skew analysis or model performance.\n",
    "* Using Boxplot and IQR method to indentify and remove or either replace the outliers with the lower and upper range."
   ]
  },
  {
   "cell_type": "markdown",
   "id": "d4f0e975",
   "metadata": {},
   "source": [
    "# Thank you"
   ]
  }
 ],
 "metadata": {
  "kernelspec": {
   "display_name": "Python 3 (ipykernel)",
   "language": "python",
   "name": "python3"
  },
  "language_info": {
   "codemirror_mode": {
    "name": "ipython",
    "version": 3
   },
   "file_extension": ".py",
   "mimetype": "text/x-python",
   "name": "python",
   "nbconvert_exporter": "python",
   "pygments_lexer": "ipython3",
   "version": "3.11.4"
  }
 },
 "nbformat": 4,
 "nbformat_minor": 5
}
